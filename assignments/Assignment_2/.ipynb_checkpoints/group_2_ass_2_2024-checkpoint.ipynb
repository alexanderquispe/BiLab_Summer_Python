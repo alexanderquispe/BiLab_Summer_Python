{
 "cells": [
  {
   "cell_type": "markdown",
   "id": "da62998d",
   "metadata": {},
   "source": [
    "## Tuple"
   ]
  },
  {
   "cell_type": "markdown",
   "id": "1624896e",
   "metadata": {},
   "source": [
    "1."
   ]
  },
  {
   "cell_type": "code",
   "execution_count": 1,
   "id": "02411410",
   "metadata": {},
   "outputs": [],
   "source": [
    "tuple1 = (\"Orange\", [10, 20, 30], (5, 15, 25))"
   ]
  },
  {
   "cell_type": "code",
   "execution_count": 2,
   "id": "3928b997",
   "metadata": {},
   "outputs": [
    {
     "data": {
      "text/plain": [
       "10"
      ]
     },
     "execution_count": 2,
     "metadata": {},
     "output_type": "execute_result"
    }
   ],
   "source": [
    "tuple1[1][0]"
   ]
  },
  {
   "cell_type": "markdown",
   "id": "2f0c4f28",
   "metadata": {},
   "source": [
    "2."
   ]
  },
  {
   "cell_type": "code",
   "execution_count": 3,
   "id": "0bf38278",
   "metadata": {},
   "outputs": [
    {
     "data": {
      "text/plain": [
       "25"
      ]
     },
     "execution_count": 3,
     "metadata": {},
     "output_type": "execute_result"
    }
   ],
   "source": [
    "tuple1[2][2]"
   ]
  },
  {
   "cell_type": "markdown",
   "id": "e0eb731d",
   "metadata": {},
   "source": [
    "3."
   ]
  },
  {
   "cell_type": "markdown",
   "id": "6c0a3793",
   "metadata": {},
   "source": [
    "It is not possible because when you create a Tuple, you can't modificate it."
   ]
  },
  {
   "cell_type": "markdown",
   "id": "bcfdd6f9",
   "metadata": {},
   "source": [
    "4."
   ]
  },
  {
   "cell_type": "code",
   "execution_count": 4,
   "id": "6c425da6",
   "metadata": {},
   "outputs": [
    {
     "name": "stdout",
     "output_type": "stream",
     "text": [
      "3\n"
     ]
    }
   ],
   "source": [
    "print(len(tuple1))"
   ]
  },
  {
   "cell_type": "markdown",
   "id": "14ad10d4",
   "metadata": {},
   "source": [
    "5."
   ]
  },
  {
   "cell_type": "code",
   "execution_count": 5,
   "id": "845b429c",
   "metadata": {},
   "outputs": [],
   "source": [
    "tuple2 = ([7, 8], [9, 1], [10, 7])"
   ]
  },
  {
   "cell_type": "markdown",
   "id": "f473144f",
   "metadata": {},
   "source": [
    "Step 1: I have to use the map function to apply the sum function in each sublist in tuple 2."
   ]
  },
  {
   "cell_type": "code",
   "execution_count": 6,
   "id": "5a4a0b4c",
   "metadata": {},
   "outputs": [],
   "source": [
    "mapped_result = map(sum, tuple2)"
   ]
  },
  {
   "cell_type": "markdown",
   "id": "8a756aa2",
   "metadata": {},
   "source": [
    "Step 2: Then I convert the mapped result to a list"
   ]
  },
  {
   "cell_type": "code",
   "execution_count": 7,
   "id": "ed7f630a",
   "metadata": {},
   "outputs": [],
   "source": [
    "result_list = list(mapped_result)"
   ]
  },
  {
   "cell_type": "markdown",
   "id": "5c7bc24e",
   "metadata": {},
   "source": [
    "Step 3: Next I sum all the elements in the result list"
   ]
  },
  {
   "cell_type": "code",
   "execution_count": 8,
   "id": "264618e1",
   "metadata": {},
   "outputs": [],
   "source": [
    "final_sum = sum(result_list)"
   ]
  },
  {
   "cell_type": "markdown",
   "id": "c7414937",
   "metadata": {},
   "source": [
    "Step 4: Finally I print the result using the function print. The anwser is 42."
   ]
  },
  {
   "cell_type": "code",
   "execution_count": 9,
   "id": "d38d5207",
   "metadata": {},
   "outputs": [
    {
     "name": "stdout",
     "output_type": "stream",
     "text": [
      "42\n"
     ]
    }
   ],
   "source": [
    "print(final_sum)"
   ]
  },
  {
   "cell_type": "markdown",
   "id": "6c7028cf",
   "metadata": {},
   "source": [
    "6. For this exercise, half of each value was taken into account:\n"
   ]
  },
  {
   "cell_type": "code",
   "execution_count": 10,
   "id": "fc265423",
   "metadata": {},
   "outputs": [],
   "source": [
    "tuple2 = ([7, 8], [9, 1], [10, 7])"
   ]
  },
  {
   "cell_type": "code",
   "execution_count": 11,
   "id": "43d74824",
   "metadata": {},
   "outputs": [],
   "source": [
    "tuple3 = tuple(map(lambda sublist: [x / 2 for x in sublist], tuple2))"
   ]
  },
  {
   "cell_type": "code",
   "execution_count": 12,
   "id": "ea6de6fd",
   "metadata": {},
   "outputs": [
    {
     "name": "stdout",
     "output_type": "stream",
     "text": [
      "([3.5, 4.0], [4.5, 0.5], [5.0, 3.5])\n"
     ]
    }
   ],
   "source": [
    "print(tuple3)"
   ]
  },
  {
   "cell_type": "markdown",
   "id": "cd56cb79",
   "metadata": {},
   "source": [
    "## Lists\n"
   ]
  },
  {
   "cell_type": "markdown",
   "id": "31e44609",
   "metadata": {},
   "source": [
    "1."
   ]
  },
  {
   "cell_type": "code",
   "execution_count": 13,
   "id": "68f607be",
   "metadata": {},
   "outputs": [],
   "source": [
    "import numpy as np"
   ]
  },
  {
   "cell_type": "code",
   "execution_count": 14,
   "id": "9dd96e98",
   "metadata": {},
   "outputs": [],
   "source": [
    "f_list = [np.nan , np.nan, \"Austria\", \"Germany\", np.nan, \"Pakistan\", \"np.nan\", np.nan ]\n"
   ]
  },
  {
   "cell_type": "code",
   "execution_count": 15,
   "id": "c77e2a48",
   "metadata": {},
   "outputs": [],
   "source": [
    "nan_indices = [index for index, value in enumerate(f_list) if isinstance(value, float) and np.isnan(value)]\n"
   ]
  },
  {
   "cell_type": "code",
   "execution_count": 16,
   "id": "d771b4d9",
   "metadata": {},
   "outputs": [
    {
     "name": "stdout",
     "output_type": "stream",
     "text": [
      "The indices 0, 1, 4, 7 have np.nan values.\n"
     ]
    }
   ],
   "source": [
    "print(f\"The indices {', '.join(map(str, nan_indices))} have np.nan values.\")\n"
   ]
  },
  {
   "cell_type": "markdown",
   "id": "2d8ca4e5",
   "metadata": {},
   "source": [
    "2. "
   ]
  },
  {
   "cell_type": "code",
   "execution_count": 17,
   "id": "d0704aa6",
   "metadata": {},
   "outputs": [],
   "source": [
    "p2_list = [ 2 , 3, 4, 5 ]\n"
   ]
  },
  {
   "cell_type": "code",
   "execution_count": 18,
   "id": "aa4db403",
   "metadata": {},
   "outputs": [],
   "source": [
    "replicated_list = p2_list * 4\n"
   ]
  },
  {
   "cell_type": "code",
   "execution_count": 19,
   "id": "9159733f",
   "metadata": {},
   "outputs": [
    {
     "name": "stdout",
     "output_type": "stream",
     "text": [
      "[2, 3, 4, 5, 2, 3, 4, 5, 2, 3, 4, 5, 2, 3, 4, 5]\n"
     ]
    }
   ],
   "source": [
    "print(replicated_list)\n"
   ]
  },
  {
   "cell_type": "markdown",
   "id": "b125d188",
   "metadata": {},
   "source": [
    "3. "
   ]
  },
  {
   "cell_type": "code",
   "execution_count": 20,
   "id": "b5ef272c",
   "metadata": {},
   "outputs": [],
   "source": [
    "f_list = [np.nan , np.nan, \"Austria\", \"Germany\", np.nan, \"Pakistan\", \"np.nan\", np.nan ]\n"
   ]
  },
  {
   "cell_type": "code",
   "execution_count": 21,
   "id": "adaaae5b",
   "metadata": {},
   "outputs": [
    {
     "name": "stdout",
     "output_type": "stream",
     "text": [
      "8\n"
     ]
    }
   ],
   "source": [
    "print(len(f_list))\n"
   ]
  },
  {
   "cell_type": "markdown",
   "id": "9f44f040",
   "metadata": {},
   "source": [
    "4. "
   ]
  },
  {
   "cell_type": "code",
   "execution_count": 22,
   "id": "91b96b8f",
   "metadata": {},
   "outputs": [],
   "source": [
    "text1 = ['My', 'teacher', 'assistant', 'is', 'so', 'boring.']\n"
   ]
  },
  {
   "cell_type": "code",
   "execution_count": 23,
   "id": "0eb9134b",
   "metadata": {},
   "outputs": [],
   "source": [
    "result_string = ' '.join(text1)\n"
   ]
  },
  {
   "cell_type": "code",
   "execution_count": 24,
   "id": "bf05f714",
   "metadata": {},
   "outputs": [
    {
     "name": "stdout",
     "output_type": "stream",
     "text": [
      "My teacher assistant is so boring.\n"
     ]
    }
   ],
   "source": [
    "print(result_string)\n"
   ]
  },
  {
   "cell_type": "markdown",
   "id": "2b625690",
   "metadata": {},
   "source": [
    "5."
   ]
  },
  {
   "cell_type": "code",
   "execution_count": 25,
   "id": "ab37de49",
   "metadata": {},
   "outputs": [],
   "source": [
    "text1 = ['My', 'teacher', 'assistant', 'is', 'so', 'boring.']"
   ]
  },
  {
   "cell_type": "code",
   "execution_count": 26,
   "id": "dd26a9b0",
   "metadata": {},
   "outputs": [],
   "source": [
    "text1.extend([\"but\", \"is\", \"very\", \"funny.\"])"
   ]
  },
  {
   "cell_type": "code",
   "execution_count": 27,
   "id": "18ad2d85",
   "metadata": {},
   "outputs": [],
   "source": [
    "sentence = ' '.join(text1)"
   ]
  },
  {
   "cell_type": "code",
   "execution_count": 28,
   "id": "79de3878",
   "metadata": {},
   "outputs": [
    {
     "name": "stdout",
     "output_type": "stream",
     "text": [
      "My teacher assistant is so boring. but is very funny.\n"
     ]
    }
   ],
   "source": [
    "print(sentence)"
   ]
  },
  {
   "cell_type": "markdown",
   "id": "18e7a419",
   "metadata": {},
   "source": [
    "6."
   ]
  },
  {
   "cell_type": "code",
   "execution_count": 29,
   "id": "32125514",
   "metadata": {},
   "outputs": [],
   "source": [
    "values1 = [86, 86, 85, 85, 85, 83, 23, 0, 84, 1]"
   ]
  },
  {
   "cell_type": "code",
   "execution_count": 30,
   "id": "5ae8bbec",
   "metadata": {},
   "outputs": [],
   "source": [
    "max_value = max(values1)"
   ]
  },
  {
   "cell_type": "code",
   "execution_count": 31,
   "id": "646bb732",
   "metadata": {},
   "outputs": [],
   "source": [
    "max_index = values1.index(max_value)"
   ]
  },
  {
   "cell_type": "code",
   "execution_count": 32,
   "id": "3f652ff3",
   "metadata": {},
   "outputs": [
    {
     "name": "stdout",
     "output_type": "stream",
     "text": [
      "The max value of values1 is 86 and is located in the 0 index.\n"
     ]
    }
   ],
   "source": [
    "print(f\"The max value of values1 is {max_value} and is located in the {max_index} index.\")"
   ]
  },
  {
   "cell_type": "code",
   "execution_count": 33,
   "id": "b5dd5860",
   "metadata": {},
   "outputs": [],
   "source": [
    "min_value = min(values1)"
   ]
  },
  {
   "cell_type": "code",
   "execution_count": 34,
   "id": "3002ddbf",
   "metadata": {},
   "outputs": [],
   "source": [
    "min_index = values1.index(min_value)"
   ]
  },
  {
   "cell_type": "code",
   "execution_count": 35,
   "id": "1f77d461",
   "metadata": {},
   "outputs": [
    {
     "name": "stdout",
     "output_type": "stream",
     "text": [
      "The min value of values1 is 0 and is located in the 7 index.\n"
     ]
    }
   ],
   "source": [
    "print(f\"The min value of values1 is {min_value} and is located in the {min_index} index.\")"
   ]
  },
  {
   "cell_type": "markdown",
   "id": "c7f0583f",
   "metadata": {},
   "source": [
    "7."
   ]
  },
  {
   "cell_type": "code",
   "execution_count": 36,
   "id": "efed8cdb",
   "metadata": {},
   "outputs": [],
   "source": [
    "last_and_name = [ \"CORNEJO SANCHEZ, CHRISTIAN SANTOS\", \"ORELLANA QUISPE, CRISTIAN NASSER\", \"MORALES CHOQUEHUANCA, ANGELICA KARINA\", \"GUIMARAY RIBEYRO, JOSE ROBERTO\", \"CAMACHO GAVIDIA, ABEL FERNANDO\", \"TINTAYA ORIHUELA, MEIR ALVARO\", \"CHAVEZ MARTINEZ, JOSELIN ALEXANDRA\", \"FIGUEROA MURO, LEONEL ARTURO\", \"GOMEZ CRIBILLERO, JOSE FELIPE\", \"PALOMINO SEGUÍN, AFRANIA\", \"LUZON CUEVA, BIANCA MARIETTE\", \"SUAÑA ZEGARRA, ADRIAN ANDRE\", \"SOTO POMACHAGUA, DORKAS YOMIRA JHERMY\", \"FIORENTINO MARTINEZ, LADY ALY\", \"LAMA MAVILA, HECTOR ANDRE\", \"MEZA HINOJO, GUSTAVO\", \"LOZADA MURILLO, PERSEO MARCELO\", \"ZAMBRANO JIMENEZ, MIGUEL ALONZO\", \"JACOBS LUQUE, NICOLAS\", \"VIDAL VIDAL, ROCIO GABRIELA\", \"TORRES ANICAMA, JANE CAMILA\", \"LOPEZ ESTRADA, MARIA ELISA\", \"BOYCO ORAMS, ALEJANDRO\", \"DIAZ BERROSPI, KARLINE ROSMELI\", \"RIEGA ESCALANTE, STEPHY ROSARIO\", \"LEVANO TORRES, VALERIA CECILIA\", \"ESQUIVES BRAVO, SEBASTIAN RENATO\", \"PEREZ GONZALES, JUAN CARLOS\", \"OTERO MAGUIÑA, MARIANA\", \"CLAVO CAMPOS, ANDREA BRIZETH\", \"AGUILAR GARCIA, ERICK JOSUE\", \"CALDAS VELASQUEZ, JOSUE DANIEL\", \"SALAS NUÑEZ BORJA, FABIO MANUEL\", \"PIZARRO VILLANES, FERNANDA NICOLLE\", \"QUILLATUPA MORALES, ANGELA ADELINA\", \"HUANCAYA IDONE, CESAR DANTE\", \"CALVO PORTOCARRERO, GABRIELA ISABEL\", \"IBAÑEZ ABANTO, ANGEL MAURICIO\", \"MELÉNDEZ APONTE, JUAN DIEGO\", \"CRISTIAN SERRANO, ARONE\", \"HINOJOSA CAHUANA, PERCY ALBERTH\", \"ANGLAS GARCÍA, KEVIN ARTURO\", \"ALDAVE ACOSTA, CESAR ERNESTO\", \"NÚÑEZ HUAMÁN, CÉSAR AGUSTO\", \"OBREGON HUAMAN, DIANA EDITH\", \"SOTO PACHERRES, RODRIGO FRANCO\", \"INGARUCA RIVERA, GRETTEL ALEXANDRA\", \"ROJAS HUAMAN, ROSA ANGELA\", \"NEYRA SALAS, DANTE OMAR\", \"HUERTA ESPINOZA, YAJAIRA ALEXANDRA\", \"HUANCA MARTINEZ, JORGE ALBERTO\", \"FLORES CADILLO, ALEXIS\" ]"
   ]
  },
  {
   "cell_type": "code",
   "execution_count": 37,
   "id": "dd38d7b8",
   "metadata": {},
   "outputs": [],
   "source": [
    "names = list(map(lambda full_name: full_name.split(',')[1].lstrip(), last_and_name))"
   ]
  },
  {
   "cell_type": "code",
   "execution_count": 38,
   "id": "c94804b4",
   "metadata": {},
   "outputs": [
    {
     "name": "stdout",
     "output_type": "stream",
     "text": [
      "Names: ['CHRISTIAN SANTOS', 'CRISTIAN NASSER', 'ANGELICA KARINA', 'JOSE ROBERTO', 'ABEL FERNANDO', 'MEIR ALVARO', 'JOSELIN ALEXANDRA', 'LEONEL ARTURO', 'JOSE FELIPE', 'AFRANIA', 'BIANCA MARIETTE', 'ADRIAN ANDRE', 'DORKAS YOMIRA JHERMY', 'LADY ALY', 'HECTOR ANDRE', 'GUSTAVO', 'PERSEO MARCELO', 'MIGUEL ALONZO', 'NICOLAS', 'ROCIO GABRIELA', 'JANE CAMILA', 'MARIA ELISA', 'ALEJANDRO', 'KARLINE ROSMELI', 'STEPHY ROSARIO', 'VALERIA CECILIA', 'SEBASTIAN RENATO', 'JUAN CARLOS', 'MARIANA', 'ANDREA BRIZETH', 'ERICK JOSUE', 'JOSUE DANIEL', 'FABIO MANUEL', 'FERNANDA NICOLLE', 'ANGELA ADELINA', 'CESAR DANTE', 'GABRIELA ISABEL', 'ANGEL MAURICIO', 'JUAN DIEGO', 'ARONE', 'PERCY ALBERTH', 'KEVIN ARTURO', 'CESAR ERNESTO', 'CÉSAR AGUSTO', 'DIANA EDITH', 'RODRIGO FRANCO', 'GRETTEL ALEXANDRA', 'ROSA ANGELA', 'DANTE OMAR', 'YAJAIRA ALEXANDRA', 'JORGE ALBERTO', 'ALEXIS']\n"
     ]
    }
   ],
   "source": [
    "print(\"Names:\", names)"
   ]
  },
  {
   "cell_type": "code",
   "execution_count": 39,
   "id": "2ce2e83c",
   "metadata": {},
   "outputs": [],
   "source": [
    "last_names = list(map(lambda full_name: full_name.split(',')[0], last_and_name))"
   ]
  },
  {
   "cell_type": "code",
   "execution_count": 40,
   "id": "802e969f",
   "metadata": {},
   "outputs": [
    {
     "name": "stdout",
     "output_type": "stream",
     "text": [
      "Last Names: ['CORNEJO SANCHEZ', 'ORELLANA QUISPE', 'MORALES CHOQUEHUANCA', 'GUIMARAY RIBEYRO', 'CAMACHO GAVIDIA', 'TINTAYA ORIHUELA', 'CHAVEZ MARTINEZ', 'FIGUEROA MURO', 'GOMEZ CRIBILLERO', 'PALOMINO SEGUÍN', 'LUZON CUEVA', 'SUAÑA ZEGARRA', 'SOTO POMACHAGUA', 'FIORENTINO MARTINEZ', 'LAMA MAVILA', 'MEZA HINOJO', 'LOZADA MURILLO', 'ZAMBRANO JIMENEZ', 'JACOBS LUQUE', 'VIDAL VIDAL', 'TORRES ANICAMA', 'LOPEZ ESTRADA', 'BOYCO ORAMS', 'DIAZ BERROSPI', 'RIEGA ESCALANTE', 'LEVANO TORRES', 'ESQUIVES BRAVO', 'PEREZ GONZALES', 'OTERO MAGUIÑA', 'CLAVO CAMPOS', 'AGUILAR GARCIA', 'CALDAS VELASQUEZ', 'SALAS NUÑEZ BORJA', 'PIZARRO VILLANES', 'QUILLATUPA MORALES', 'HUANCAYA IDONE', 'CALVO PORTOCARRERO', 'IBAÑEZ ABANTO', 'MELÉNDEZ APONTE', 'CRISTIAN SERRANO', 'HINOJOSA CAHUANA', 'ANGLAS GARCÍA', 'ALDAVE ACOSTA', 'NÚÑEZ HUAMÁN', 'OBREGON HUAMAN', 'SOTO PACHERRES', 'INGARUCA RIVERA', 'ROJAS HUAMAN', 'NEYRA SALAS', 'HUERTA ESPINOZA', 'HUANCA MARTINEZ', 'FLORES CADILLO']\n"
     ]
    }
   ],
   "source": [
    "print(\"Last Names:\", last_names)"
   ]
  },
  {
   "cell_type": "markdown",
   "id": "094aff7c",
   "metadata": {},
   "source": [
    "8."
   ]
  },
  {
   "cell_type": "code",
   "execution_count": 41,
   "id": "d90d20d0",
   "metadata": {},
   "outputs": [],
   "source": [
    "last_and_name = [ \"CORNEJO SANCHEZ, CHRISTIAN SANTOS\", \"ORELLANA QUISPE, CRISTIAN NASSER\", \"MORALES CHOQUEHUANCA, ANGELICA KARINA\", \"GUIMARAY RIBEYRO, JOSE ROBERTO\", \"CAMACHO GAVIDIA, ABEL FERNANDO\", \"TINTAYA ORIHUELA, MEIR ALVARO\", \"CHAVEZ MARTINEZ, JOSELIN ALEXANDRA\", \"FIGUEROA MURO, LEONEL ARTURO\", \"GOMEZ CRIBILLERO, JOSE FELIPE\", \"PALOMINO SEGUÍN, AFRANIA\", \"LUZON CUEVA, BIANCA MARIETTE\", \"SUAÑA ZEGARRA, ADRIAN ANDRE\", \"SOTO POMACHAGUA, DORKAS YOMIRA JHERMY\", \"FIORENTINO MARTINEZ, LADY ALY\", \"LAMA MAVILA, HECTOR ANDRE\", \"MEZA HINOJO, GUSTAVO\", \"LOZADA MURILLO, PERSEO MARCELO\", \"ZAMBRANO JIMENEZ, MIGUEL ALONZO\", \"JACOBS LUQUE, NICOLAS\", \"VIDAL VIDAL, ROCIO GABRIELA\", \"TORRES ANICAMA, JANE CAMILA\", \"LOPEZ ESTRADA, MARIA ELISA\", \"BOYCO ORAMS, ALEJANDRO\", \"DIAZ BERROSPI, KARLINE ROSMELI\", \"RIEGA ESCALANTE, STEPHY ROSARIO\", \"LEVANO TORRES, VALERIA CECILIA\", \"ESQUIVES BRAVO, SEBASTIAN RENATO\", \"PEREZ GONZALES, JUAN CARLOS\", \"OTERO MAGUIÑA, MARIANA\", \"CLAVO CAMPOS, ANDREA BRIZETH\", \"AGUILAR GARCIA, ERICK JOSUE\", \"CALDAS VELASQUEZ, JOSUE DANIEL\", \"SALAS NUÑEZ BORJA, FABIO MANUEL\", \"PIZARRO VILLANES, FERNANDA NICOLLE\", \"QUILLATUPA MORALES, ANGELA ADELINA\", \"HUANCAYA IDONE, CESAR DANTE\", \"CALVO PORTOCARRERO, GABRIELA ISABEL\", \"IBAÑEZ ABANTO, ANGEL MAURICIO\", \"MELÉNDEZ APONTE, JUAN DIEGO\", \"CRISTIAN SERRANO, ARONE\", \"HINOJOSA CAHUANA, PERCY ALBERTH\", \"ANGLAS GARCÍA, KEVIN ARTURO\", \"ALDAVE ACOSTA, CESAR ERNESTO\", \"NÚÑEZ HUAMÁN, CÉSAR AGUSTO\", \"OBREGON HUAMAN, DIANA EDITH\", \"SOTO PACHERRES, RODRIGO FRANCO\", \"INGARUCA RIVERA, GRETTEL ALEXANDRA\", \"ROJAS HUAMAN, ROSA ANGELA\", \"NEYRA SALAS, DANTE OMAR\", \"HUERTA ESPINOZA, YAJAIRA ALEXANDRA\", \"HUANCA MARTINEZ, JORGE ALBERTO\", \"FLORES CADILLO, ALEXIS\" ]"
   ]
  },
  {
   "cell_type": "code",
   "execution_count": 42,
   "id": "a664e94d",
   "metadata": {},
   "outputs": [],
   "source": [
    "emails = [\"cscornejo@pucp.edu.pe\", \"orellana.cn@pucp.edu.pe\", \"karina.morales@pucp.edu.pe\", \"a20083223@pucp.pe\", \"abel.camacho@pucp.pe\", \"mtintaya@pucp.edu.pe\", \"joselin.chavez@pucp.edu.pe\", \"a20105737@pucp.pe\", \"jfgomezc@pucp.pe\", \"afrania.palomino@pucp.pe\", \"luzon.bianca@pucp.pe\", \"adrian.suanaz@pucp.pe\", \"soto.y@pucp.edu.pe\", \"a20132766@pucp.pe\", \"andre.lama@pucp.edu.pe\", \"gustavo.meza@pucp.edu.pe\", \"pmlozada@pucp.edu.pe\", \"m.zambranoj@pucp.edu.pe\", \"nicolas.jacobs@pucp.edu.pe\", \"gvidal@pucp.edu.pe\", \"jane.torres@pucp.edu.pe\", \"m.lopez@pucp.edu.pe\", \"alejandro.boyco@pucp.edu.pe\", \"a20167070@pucp.edu.pe\", \"riega.stephy@pucp.edu.pe\", \"vlevanot@pucp.edu.pe\", \"sesquives@pucp.edu.pe\", \"perez.juanc@pucp.edu.pe\", \"mariana.otero@pucp.edu.pe\", \"aclavo@pucp.edu.pe\", \"a20182474@pucp.edu.pe\", \"josue.caldas@pucp.edu.pe\", \"fabio.salas@pucp.edu.pe\", \"fernanda.pizarro@pucp.edu.pe\", \"aquillatupa@pucp.pe\", \"\", \"\", \"\", \"\", \"\", \"f0873079@pucp.edu.pe\", \"\", \"\", \"\", \"\", \"\", \"\", \"\", \"\", \"\", \"\", \"flores.alexis@pucp.edu.pe\", ]"
   ]
  },
  {
   "cell_type": "code",
   "execution_count": 43,
   "id": "c0e4a50f",
   "metadata": {},
   "outputs": [],
   "source": [
    "last_names = list(map(lambda full_name: full_name.split(',')[0], last_and_name))"
   ]
  },
  {
   "cell_type": "code",
   "execution_count": 44,
   "id": "305ef717",
   "metadata": {},
   "outputs": [],
   "source": [
    "combined_data = zip(last_names, emails)"
   ]
  },
  {
   "cell_type": "code",
   "execution_count": 45,
   "id": "ba7e1705",
   "metadata": {},
   "outputs": [],
   "source": [
    "last_names_no_email = [last_name for last_name, email in combined_data if email == '']"
   ]
  },
  {
   "cell_type": "code",
   "execution_count": 46,
   "id": "cb7a92d1",
   "metadata": {},
   "outputs": [
    {
     "name": "stdout",
     "output_type": "stream",
     "text": [
      "Last Names of Students without Email: ['HUANCAYA IDONE', 'CALVO PORTOCARRERO', 'IBAÑEZ ABANTO', 'MELÉNDEZ APONTE', 'CRISTIAN SERRANO', 'ANGLAS GARCÍA', 'ALDAVE ACOSTA', 'NÚÑEZ HUAMÁN', 'OBREGON HUAMAN', 'SOTO PACHERRES', 'INGARUCA RIVERA', 'ROJAS HUAMAN', 'NEYRA SALAS', 'HUERTA ESPINOZA', 'HUANCA MARTINEZ']\n"
     ]
    }
   ],
   "source": [
    "print(\"Last Names of Students without Email:\", last_names_no_email)"
   ]
  },
  {
   "cell_type": "markdown",
   "id": "11cd7ffb",
   "metadata": {},
   "source": [
    "## Strings"
   ]
  },
  {
   "cell_type": "markdown",
   "id": "148bbc69",
   "metadata": {},
   "source": [
    "1."
   ]
  },
  {
   "cell_type": "code",
   "execution_count": 47,
   "id": "4c0ffb89",
   "metadata": {},
   "outputs": [],
   "source": [
    "str1 = 'I am                            too                                                        old'"
   ]
  },
  {
   "cell_type": "code",
   "execution_count": 48,
   "id": "c2c298f1",
   "metadata": {},
   "outputs": [],
   "source": [
    "words = str1.split(' ')"
   ]
  },
  {
   "cell_type": "markdown",
   "id": "a310794e",
   "metadata": {},
   "source": [
    "Step 1: I split the string \"str1\" into a list of words, using spaces as a delimiter.\n",
    "\n"
   ]
  },
  {
   "cell_type": "code",
   "execution_count": 49,
   "id": "bcda8626",
   "metadata": {},
   "outputs": [],
   "source": [
    "filtered_words = filter(lambda x: x != '', words)"
   ]
  },
  {
   "cell_type": "markdown",
   "id": "f84edb30",
   "metadata": {},
   "source": [
    "Step 2: Then I filtered out any empty strings resulting from consecutive spaces after splitting.\n",
    "\n"
   ]
  },
  {
   "cell_type": "code",
   "execution_count": 50,
   "id": "92ed72d4",
   "metadata": {},
   "outputs": [],
   "source": [
    "result = ' '.join(filtered_words)"
   ]
  },
  {
   "cell_type": "markdown",
   "id": "b513a84d",
   "metadata": {},
   "source": [
    "Step 3: For the next step, I joined the filtered words with a single space.\n",
    "\n"
   ]
  },
  {
   "cell_type": "code",
   "execution_count": 51,
   "id": "2a452410",
   "metadata": {},
   "outputs": [
    {
     "name": "stdout",
     "output_type": "stream",
     "text": [
      "String with duplicated spaces removed: I am too old\n"
     ]
    }
   ],
   "source": [
    "print(\"String with duplicated spaces removed:\", result)"
   ]
  },
  {
   "cell_type": "raw",
   "id": "d1b8ff61",
   "metadata": {},
   "source": [
    "or:"
   ]
  },
  {
   "cell_type": "code",
   "execution_count": 52,
   "id": "12742b3b",
   "metadata": {},
   "outputs": [],
   "source": [
    "words = str1.split()"
   ]
  },
  {
   "cell_type": "code",
   "execution_count": 53,
   "id": "04ce9202",
   "metadata": {},
   "outputs": [],
   "source": [
    "clean_str = ' '.join(words)"
   ]
  },
  {
   "cell_type": "code",
   "execution_count": 54,
   "id": "79f8de78",
   "metadata": {},
   "outputs": [
    {
     "name": "stdout",
     "output_type": "stream",
     "text": [
      "I am too old\n"
     ]
    }
   ],
   "source": [
    "print(clean_str)"
   ]
  },
  {
   "cell_type": "markdown",
   "id": "a3f2fa95",
   "metadata": {},
   "source": [
    "2."
   ]
  },
  {
   "cell_type": "code",
   "execution_count": 55,
   "id": "388fab0e",
   "metadata": {},
   "outputs": [
    {
     "data": {
      "text/plain": [
       "12"
      ]
     },
     "execution_count": 55,
     "metadata": {},
     "output_type": "execute_result"
    }
   ],
   "source": [
    "len(clean_str)"
   ]
  },
  {
   "cell_type": "markdown",
   "id": "c4648717",
   "metadata": {},
   "source": [
    "3."
   ]
  },
  {
   "cell_type": "code",
   "execution_count": 56,
   "id": "d012ac75",
   "metadata": {},
   "outputs": [
    {
     "data": {
      "text/plain": [
       "85"
      ]
     },
     "execution_count": 56,
     "metadata": {},
     "output_type": "execute_result"
    }
   ],
   "source": [
    "len([char for char in str1 if char.isspace()])"
   ]
  },
  {
   "cell_type": "code",
   "execution_count": 57,
   "id": "7a7a7224",
   "metadata": {},
   "outputs": [],
   "source": [
    "emails = [\"cscornejo@pucp.edu.pe\", \"orellana.cn@pucp.edu.pe\", \"karina.morales@pucp.edu.pe\", \"a20083223@pucp.pe\", \"abel.camacho@pucp.pe\", \"mtintaya@pucp.edu.pe\", \"joselin.chavez@pucp.edu.pe\", \"a20105737@pucp.pe\", \"jfgomezc@pucp.pe\", \"afrania.palomino@pucp.pe\", \"luzon.bianca@pucp.pe\", \"adrian.suanaz@pucp.pe\", \"soto.y@pucp.edu.pe\", \"a20132766@pucp.pe\", \"andre.lama@pucp.edu.pe\", \"gustavo.meza@pucp.edu.pe\", \"pmlozada@pucp.edu.pe\", \"m.zambranoj@pucp.edu.pe\", \"nicolas.jacobs@pucp.edu.pe\", \"gvidal@pucp.edu.pe\", \"jane.torres@pucp.edu.pe\", \"m.lopez@pucp.edu.pe\", \"alejandro.boyco@pucp.edu.pe\", \"a20167070@pucp.edu.pe\", \"riega.stephy@pucp.edu.pe\", \"vlevanot@pucp.edu.pe\", \"sesquives@pucp.edu.pe\", \"perez.juanc@pucp.edu.pe\", \"mariana.otero@pucp.edu.pe\", \"aclavo@pucp.edu.pe\", \"a20182474@pucp.edu.pe\", \"josue.caldas@pucp.edu.pe\", \"fabio.salas@pucp.edu.pe\", \"fernanda.pizarro@pucp.edu.pe\", \"aquillatupa@pucp.pe\"]"
   ]
  },
  {
   "cell_type": "code",
   "execution_count": 58,
   "id": "cfa762eb",
   "metadata": {},
   "outputs": [],
   "source": [
    "positions=list(map(lambda email: email.find('@'), emails))"
   ]
  },
  {
   "cell_type": "code",
   "execution_count": 59,
   "id": "b851975e",
   "metadata": {},
   "outputs": [
    {
     "name": "stdout",
     "output_type": "stream",
     "text": [
      "Positions of @ in each email: [9, 11, 14, 9, 12, 8, 14, 9, 8, 16, 12, 13, 6, 9, 10, 12, 8, 11, 14, 6, 11, 7, 15, 9, 12, 8, 9, 11, 13, 6, 9, 12, 11, 16, 11]\n"
     ]
    }
   ],
   "source": [
    "print(\"Positions of @ in each email:\", positions)"
   ]
  },
  {
   "cell_type": "code",
   "execution_count": 60,
   "id": "e40f2ef2",
   "metadata": {},
   "outputs": [],
   "source": [
    "edu=list(map(lambda email: \".edu.\" in email, emails))"
   ]
  },
  {
   "cell_type": "code",
   "execution_count": 61,
   "id": "f623f770",
   "metadata": {},
   "outputs": [
    {
     "name": "stdout",
     "output_type": "stream",
     "text": [
      "Contains .edu.: [True, True, True, False, False, True, True, False, False, False, False, False, True, False, True, True, True, True, True, True, True, True, True, True, True, True, True, True, True, True, True, True, True, True, False]\n"
     ]
    }
   ],
   "source": [
    "print(\"Contains .edu.:\", edu)"
   ]
  },
  {
   "cell_type": "markdown",
   "id": "b47a595e",
   "metadata": {},
   "source": [
    "6."
   ]
  },
  {
   "cell_type": "code",
   "execution_count": 62,
   "id": "4fe4a5c4",
   "metadata": {},
   "outputs": [],
   "source": [
    "first=list(map(lambda email: email.split('.')[0], emails))"
   ]
  },
  {
   "cell_type": "code",
   "execution_count": 63,
   "id": "c978d00f",
   "metadata": {},
   "outputs": [],
   "source": [
    "num_with_at = sum('@' in email for email in first)"
   ]
  },
  {
   "cell_type": "code",
   "execution_count": 64,
   "id": "99d0d83a",
   "metadata": {},
   "outputs": [
    {
     "name": "stdout",
     "output_type": "stream",
     "text": [
      "Strings before the first dot: ['cscornejo@pucp', 'orellana', 'karina', 'a20083223@pucp', 'abel', 'mtintaya@pucp', 'joselin', 'a20105737@pucp', 'jfgomezc@pucp', 'afrania', 'luzon', 'adrian', 'soto', 'a20132766@pucp', 'andre', 'gustavo', 'pmlozada@pucp', 'm', 'nicolas', 'gvidal@pucp', 'jane', 'm', 'alejandro', 'a20167070@pucp', 'riega', 'vlevanot@pucp', 'sesquives@pucp', 'perez', 'mariana', 'aclavo@pucp', 'a20182474@pucp', 'josue', 'fabio', 'fernanda', 'aquillatupa@pucp']\n"
     ]
    }
   ],
   "source": [
    "print(\"Strings before the first dot:\", first)"
   ]
  },
  {
   "cell_type": "code",
   "execution_count": 65,
   "id": "da774730",
   "metadata": {},
   "outputs": [
    {
     "name": "stdout",
     "output_type": "stream",
     "text": [
      "Number of them with @: 14\n"
     ]
    }
   ],
   "source": [
    "print(\"Number of them with @:\", num_with_at)"
   ]
  }
 ],
 "metadata": {
  "kernelspec": {
   "display_name": "Python 3 (ipykernel)",
   "language": "python",
   "name": "python3"
  },
  "language_info": {
   "codemirror_mode": {
    "name": "ipython",
    "version": 3
   },
   "file_extension": ".py",
   "mimetype": "text/x-python",
   "name": "python",
   "nbconvert_exporter": "python",
   "pygments_lexer": "ipython3",
   "version": "3.11.5"
  }
 },
 "nbformat": 4,
 "nbformat_minor": 5
}
