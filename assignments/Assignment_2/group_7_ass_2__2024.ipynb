{
 "cells": [
  {
   "cell_type": "raw",
   "id": "78fb6014",
   "metadata": {},
   "source": [
    "# tuple"
   ]
  },
  {
   "cell_type": "code",
   "execution_count": 2,
   "id": "087c6a65",
   "metadata": {},
   "outputs": [],
   "source": [
    "1.\n",
    "tuple1 = (\"Orange\", [10, 20, 30], (5, 15, 20))"
   ]
  },
  {
   "cell_type": "code",
   "execution_count": 3,
   "id": "5bda609d",
   "metadata": {},
   "outputs": [
    {
     "data": {
      "text/plain": [
       "10"
      ]
     },
     "execution_count": 3,
     "metadata": {},
     "output_type": "execute_result"
    }
   ],
   "source": [
    "tuple1[1][0]"
   ]
  },
  {
   "cell_type": "code",
   "execution_count": 4,
   "id": "51fd789b",
   "metadata": {},
   "outputs": [
    {
     "data": {
      "text/plain": [
       "20"
      ]
     },
     "execution_count": 4,
     "metadata": {},
     "output_type": "execute_result"
    }
   ],
   "source": [
    "2.\n",
    "tuple1[2][2]"
   ]
  },
  {
   "cell_type": "code",
   "execution_count": 5,
   "id": "12139e41",
   "metadata": {},
   "outputs": [
    {
     "data": {
      "text/plain": [
       "3.0"
      ]
     },
     "execution_count": 5,
     "metadata": {},
     "output_type": "execute_result"
    }
   ],
   "source": [
    "3."
   ]
  },
  {
   "cell_type": "code",
   "execution_count": 6,
   "id": "cc62cfb4",
   "metadata": {},
   "outputs": [
    {
     "data": {
      "text/plain": [
       "\"We can't change it, because a tuple is an inmutable\""
      ]
     },
     "execution_count": 6,
     "metadata": {},
     "output_type": "execute_result"
    }
   ],
   "source": [
    "\"We can't change it, because a tuple is an inmutable\""
   ]
  },
  {
   "cell_type": "code",
   "execution_count": 7,
   "id": "3f10f5b6",
   "metadata": {},
   "outputs": [
    {
     "data": {
      "text/plain": [
       "3"
      ]
     },
     "execution_count": 7,
     "metadata": {},
     "output_type": "execute_result"
    }
   ],
   "source": [
    "4.\n",
    "len(tuple1)"
   ]
  },
  {
   "cell_type": "code",
   "execution_count": 8,
   "id": "3d395eae",
   "metadata": {},
   "outputs": [
    {
     "name": "stdout",
     "output_type": "stream",
     "text": [
      "3\n"
     ]
    }
   ],
   "source": [
    "print(len(tuple1))"
   ]
  },
  {
   "cell_type": "code",
   "execution_count": 9,
   "id": "cf5c52ed",
   "metadata": {},
   "outputs": [],
   "source": [
    "5.\n",
    "tuple2 = ([7, 8], [9, 1], [10, 7])"
   ]
  },
  {
   "cell_type": "code",
   "execution_count": 10,
   "id": "d1591d5c",
   "metadata": {},
   "outputs": [
    {
     "data": {
      "text/plain": [
       "'Step 1: We must use the function \"map\" to sum in each sublist of tuple2'"
      ]
     },
     "execution_count": 10,
     "metadata": {},
     "output_type": "execute_result"
    }
   ],
   "source": [
    "'Step 1: We must use the function \"map\" to sum in each sublist of tuple2'"
   ]
  },
  {
   "cell_type": "code",
   "execution_count": 11,
   "id": "839f001b",
   "metadata": {},
   "outputs": [],
   "source": [
    "map_input = map(sum, tuple2)"
   ]
  },
  {
   "cell_type": "code",
   "execution_count": 12,
   "id": "64fc5cd9",
   "metadata": {},
   "outputs": [
    {
     "data": {
      "text/plain": [
       "'Step 2: We must transform map input to a list'"
      ]
     },
     "execution_count": 12,
     "metadata": {},
     "output_type": "execute_result"
    }
   ],
   "source": [
    "\"Step 2: We must transform map input to a list\""
   ]
  },
  {
   "cell_type": "code",
   "execution_count": 13,
   "id": "b3999403",
   "metadata": {},
   "outputs": [],
   "source": [
    "list1 = list(map_input)"
   ]
  },
  {
   "cell_type": "code",
   "execution_count": 14,
   "id": "5a1e228e",
   "metadata": {},
   "outputs": [
    {
     "data": {
      "text/plain": [
       "'Step 3: We must sum all elements of the list'"
      ]
     },
     "execution_count": 14,
     "metadata": {},
     "output_type": "execute_result"
    }
   ],
   "source": [
    "\"Step 3: We must sum all elements of the list\""
   ]
  },
  {
   "cell_type": "code",
   "execution_count": 15,
   "id": "d4364ccd",
   "metadata": {},
   "outputs": [],
   "source": [
    "result = sum(list1)"
   ]
  },
  {
   "cell_type": "code",
   "execution_count": 16,
   "id": "a74e23a3",
   "metadata": {},
   "outputs": [
    {
     "name": "stdout",
     "output_type": "stream",
     "text": [
      "42\n"
     ]
    }
   ],
   "source": [
    "print(result)"
   ]
  },
  {
   "cell_type": "code",
   "execution_count": 17,
   "id": "a747fe39",
   "metadata": {},
   "outputs": [
    {
     "data": {
      "text/plain": [
       "6.0"
      ]
     },
     "execution_count": 17,
     "metadata": {},
     "output_type": "execute_result"
    }
   ],
   "source": [
    "6."
   ]
  },
  {
   "cell_type": "code",
   "execution_count": 18,
   "id": "12da97b4",
   "metadata": {},
   "outputs": [
    {
     "data": {
      "text/plain": [
       "'We use lambda to achieve the same result concisely'"
      ]
     },
     "execution_count": 18,
     "metadata": {},
     "output_type": "execute_result"
    }
   ],
   "source": [
    "\"We use lambda to achieve the same result concisely\""
   ]
  },
  {
   "cell_type": "code",
   "execution_count": 19,
   "id": "4b0a981a",
   "metadata": {},
   "outputs": [
    {
     "name": "stdout",
     "output_type": "stream",
     "text": [
      "([3.5, 4.0], [4.5, 0.5], [5.0, 3.5])\n"
     ]
    }
   ],
   "source": [
    "tuple3 = tuple(map(lambda values: [x / 2 for x in values], tuple2))\n",
    "print(tuple3)"
   ]
  },
  {
   "cell_type": "markdown",
   "id": "e0118828",
   "metadata": {},
   "source": [
    "#LIST"
   ]
  },
  {
   "cell_type": "code",
   "execution_count": 20,
   "id": "43b67c2f",
   "metadata": {},
   "outputs": [
    {
     "name": "stdout",
     "output_type": "stream",
     "text": [
      "The indices 0, 1, 4, 7 have np.nan values.\n"
     ]
    }
   ],
   "source": [
    "#Task 1. \n",
    "import numpy as np\n",
    "\n",
    "f_list = [np.nan, np.nan, \"Austria\", \"Germany\", np.nan, \"Pakistan\", \"np.nan\", np.nan]\n",
    "\n",
    "nan_indices = [i for i, value in enumerate(f_list) if isinstance(value, float) and np.isnan(value)]\n",
    "\n",
    "if nan_indices:\n",
    "    print(f\"The indices {', '.join(map(str, nan_indices))} have np.nan values.\")\n",
    "else:\n",
    "    print(\"There are no np.nan values in the list.\") \n",
    "    "
   ]
  },
  {
   "cell_type": "code",
   "execution_count": 21,
   "id": "ee27c27d",
   "metadata": {},
   "outputs": [
    {
     "name": "stdout",
     "output_type": "stream",
     "text": [
      "[2, 3, 4, 5, 2, 3, 4, 5, 2, 3, 4, 5, 2, 3, 4, 5]\n"
     ]
    }
   ],
   "source": [
    "import numpy as np\n",
    "\n",
    "# Task 2: Replicate 4 times the values of the list p2_list.\n",
    "p2_list = [2, 3, 4, 5]\n",
    "replicated_list = p2_list * 4\n",
    "print(replicated_list)"
   ]
  },
  {
   "cell_type": "code",
   "execution_count": 22,
   "id": "4c0ea37c",
   "metadata": {},
   "outputs": [
    {
     "name": "stdout",
     "output_type": "stream",
     "text": [
      "The length of f_list is 8.\n"
     ]
    }
   ],
   "source": [
    "# Task 3: Print the length of f_list.\n",
    "f_list = [np.nan, np.nan, \"Austria\", \"Germany\", np.nan, \"Pakistan\", \"np.nan\", np.nan]\n",
    "print(f\"The length of f_list is {len(f_list)}.\")"
   ]
  },
  {
   "cell_type": "code",
   "execution_count": 23,
   "id": "ba37f02e",
   "metadata": {},
   "outputs": [
    {
     "name": "stdout",
     "output_type": "stream",
     "text": [
      "My teacher assistant is so boring.\n"
     ]
    }
   ],
   "source": [
    "# Task 4: Print 'My teacher assistant is so boring.' using text1 list.\n",
    "text1 = ['My', 'teacher', 'assistant', 'is', 'so', 'boring.']\n",
    "print(' '.join(text1))"
   ]
  },
  {
   "cell_type": "code",
   "execution_count": 24,
   "id": "2c2c1b55",
   "metadata": {},
   "outputs": [
    {
     "name": "stdout",
     "output_type": "stream",
     "text": [
      "My teacher assistant is so boring. but is very funny.\n"
     ]
    }
   ],
   "source": [
    "# Task 5: Print 'My TA is so boring, but is very funny.' using text1 list.\n",
    "text1.extend(['but', 'is', 'very', 'funny.'])\n",
    "print(' '.join(text1))\n"
   ]
  },
  {
   "cell_type": "code",
   "execution_count": 25,
   "id": "497522c5",
   "metadata": {},
   "outputs": [
    {
     "name": "stdout",
     "output_type": "stream",
     "text": [
      "The max value of values1 is 86 and is located in the 0 index.\n",
      "The min value of values1 is 0 and is located in the 7 index.\n"
     ]
    }
   ],
   "source": [
    "# Task 6: Print max and min values of values1 with their indices.\n",
    "values1 = [86, 86, 85, 85, 85, 83, 23, 0, 84, 1]\n",
    "max_index = values1.index(max(values1))\n",
    "min_index = values1.index(min(values1))\n",
    "print(f\"The max value of values1 is {max(values1)} and is located in the {max_index} index.\")\n",
    "print(f\"The min value of values1 is {min(values1)} and is located in the {min_index} index.\")"
   ]
  },
  {
   "cell_type": "code",
   "execution_count": 40,
   "id": "8e481fa2",
   "metadata": {},
   "outputs": [
    {
     "name": "stdout",
     "output_type": "stream",
     "text": [
      "('CORNEJO SANCHEZ', 'ORELLANA QUISPE', 'MORALES CHOQUEHUANCA', 'GUIMARAY RIBEYRO', 'CAMACHO GAVIDIA') ('CHRISTIAN SANTOS', 'CRISTIAN NASSER', 'ANGELICA KARINA', 'JOSE ROBERTO', 'ABEL FERNANDO')\n"
     ]
    }
   ],
   "source": [
    "# Task 7: Get two lists 'names' and 'last_names' using 'last_and_name' list.\n",
    "last_and_name = [\"CORNEJO SANCHEZ, CHRISTIAN SANTOS\", \"ORELLANA QUISPE, CRISTIAN NASSER\", \"MORALES CHOQUEHUANCA, ANGELICA KARINA\", \"GUIMARAY RIBEYRO, JOSE ROBERTO\", \"CAMACHO GAVIDIA, ABEL FERNANDO\"]\n",
    "names, last_names = zip(*map(lambda x: x.split(', '), last_and_name))\n",
    "print(names, last_names)"
   ]
  },
  {
   "cell_type": "code",
   "execution_count": 27,
   "id": "679dfd6f",
   "metadata": {},
   "outputs": [
    {
     "name": "stdout",
     "output_type": "stream",
     "text": [
      "Last names of students without an email: ANGELICA KARINA, JOSE ROBERTO\n"
     ]
    }
   ],
   "source": [
    "# Task 8: Give only the last names of students who do not have an email.\n",
    "emails = [\"cscornejo@pucp.edu.pe\", \"orellana.cn@pucp.edu.pe\", \"\", \"\", \"abel.camacho@pucp.pe\"]\n",
    "no_email_last_names = [last_names[i] for i, email in enumerate(emails) if not email]\n",
    "print(f\"Last names of students without an email: {', '.join(no_email_last_names)}\")"
   ]
  },
  {
   "cell_type": "markdown",
   "id": "ef29c92c",
   "metadata": {},
   "source": [
    "#STRINGS"
   ]
  },
  {
   "cell_type": "code",
   "execution_count": 28,
   "id": "b09ef2dc",
   "metadata": {},
   "outputs": [
    {
     "name": "stdout",
     "output_type": "stream",
     "text": [
      "I am too old\n"
     ]
    }
   ],
   "source": [
    "#01. \n",
    "str1 = 'I am                            too                                                        old'\n",
    "str1 = ' '.join(str1.split())\n",
    "print(str1)"
   ]
  },
  {
   "cell_type": "code",
   "execution_count": 29,
   "id": "7500a1dd",
   "metadata": {},
   "outputs": [
    {
     "name": "stdout",
     "output_type": "stream",
     "text": [
      "9\n"
     ]
    }
   ],
   "source": [
    "#02.\n",
    "num_letras = len([c for c in str1 if c.isalpha()])\n",
    "print(num_letras)"
   ]
  },
  {
   "cell_type": "code",
   "execution_count": 30,
   "id": "9edbedd5",
   "metadata": {},
   "outputs": [
    {
     "name": "stdout",
     "output_type": "stream",
     "text": [
      "3\n"
     ]
    }
   ],
   "source": [
    "#03. \n",
    "num_espacios = len([c for c in str1 if c.isspace()])\n",
    "print(num_espacios)"
   ]
  },
  {
   "cell_type": "code",
   "execution_count": 31,
   "id": "2dd3489e",
   "metadata": {},
   "outputs": [
    {
     "name": "stdout",
     "output_type": "stream",
     "text": [
      "[9, 11, 14, 9, 12, 8, 14, 9, 8, 16, 12, 13, 6, 9, 10, 12, 8, 11, 14, 6, 11, 7, 15, 9, 12, 8, 9, 11, 13, 6, 9, 12, 11, 16, 11]\n"
     ]
    }
   ],
   "source": [
    "#04. \n",
    "emails = [\"cscornejo@pucp.edu.pe\", \"orellana.cn@pucp.edu.pe\", \"karina.morales@pucp.edu.pe\", \"a20083223@pucp.pe\", \"abel.camacho@pucp.pe\", \"mtintaya@pucp.edu.pe\", \"joselin.chavez@pucp.edu.pe\", \"a20105737@pucp.pe\", \"jfgomezc@pucp.pe\", \"afrania.palomino@pucp.pe\", \"luzon.bianca@pucp.pe\", \"adrian.suanaz@pucp.pe\", \"soto.y@pucp.edu.pe\", \"a20132766@pucp.pe\", \"andre.lama@pucp.edu.pe\", \"gustavo.meza@pucp.edu.pe\", \"pmlozada@pucp.edu.pe\", \"m.zambranoj@pucp.edu.pe\", \"nicolas.jacobs@pucp.edu.pe\", \"gvidal@pucp.edu.pe\", \"jane.torres@pucp.edu.pe\", \"m.lopez@pucp.edu.pe\", \"alejandro.boyco@pucp.edu.pe\", \"a20167070@pucp.edu.pe\", \"riega.stephy@pucp.edu.pe\", \"vlevanot@pucp.edu.pe\", \"sesquives@pucp.edu.pe\", \"perez.juanc@pucp.edu.pe\", \"mariana.otero@pucp.edu.pe\", \"aclavo@pucp.edu.pe\", \"a20182474@pucp.edu.pe\", \"josue.caldas@pucp.edu.pe\", \"fabio.salas@pucp.edu.pe\", \"fernanda.pizarro@pucp.edu.pe\", \"aquillatupa@pucp.pe\"]\n",
    "posiciones_arroba = list(map(lambda email: email.find('@'), emails))\n",
    "print(posiciones_arroba)"
   ]
  },
  {
   "cell_type": "code",
   "execution_count": 32,
   "id": "64a0157d",
   "metadata": {},
   "outputs": [
    {
     "name": "stdout",
     "output_type": "stream",
     "text": [
      "[True, True, True, False, False, True, True, False, False, False, False, False, True, False, True, True, True, True, True, True, True, True, True, True, True, True, True, True, True, True, True, True, True, True, False]\n"
     ]
    }
   ],
   "source": [
    "#05. \n",
    "contiene_edu = list(map(lambda email: \".edu.\" in email, emails))\n",
    "print(contiene_edu)"
   ]
  },
  {
   "cell_type": "code",
   "execution_count": 33,
   "id": "80f0fbea",
   "metadata": {},
   "outputs": [
    {
     "name": "stdout",
     "output_type": "stream",
     "text": [
      "14\n"
     ]
    }
   ],
   "source": [
    "#06. \n",
    "antes_del_punto = list(map(lambda email: email.split('.')[0], emails))\n",
    "con_arroba = sum('@' in parte for parte in antes_del_punto)\n",
    "print(con_arroba)"
   ]
  }
 ],
 "metadata": {
  "kernelspec": {
   "display_name": "Python 3 (ipykernel)",
   "language": "python",
   "name": "python3"
  },
  "language_info": {
   "codemirror_mode": {
    "name": "ipython",
    "version": 3
   },
   "file_extension": ".py",
   "mimetype": "text/x-python",
   "name": "python",
   "nbconvert_exporter": "python",
   "pygments_lexer": "ipython3",
   "version": "3.11.5"
  }
 },
 "nbformat": 4,
 "nbformat_minor": 5
}
