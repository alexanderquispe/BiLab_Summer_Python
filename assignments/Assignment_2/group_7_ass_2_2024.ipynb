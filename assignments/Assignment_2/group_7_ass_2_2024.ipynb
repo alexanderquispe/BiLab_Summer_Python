{
 "cells": [
  {
   "cell_type": "raw",
   "id": "78fb6014",
   "metadata": {},
   "source": [
    "# tuple"
   ]
  },
  {
   "cell_type": "code",
   "execution_count": 1,
   "id": "087c6a65",
   "metadata": {},
   "outputs": [],
   "source": [
    "1.\n",
    "tuple1 = (\"Orange\", [10, 20, 30], (5, 15, 20))"
   ]
  },
  {
   "cell_type": "code",
   "execution_count": 2,
   "id": "5bda609d",
   "metadata": {},
   "outputs": [
    {
     "data": {
      "text/plain": [
       "10"
      ]
     },
     "execution_count": 2,
     "metadata": {},
     "output_type": "execute_result"
    }
   ],
   "source": [
    "tuple1[1][0]"
   ]
  },
  {
   "cell_type": "code",
   "execution_count": 3,
   "id": "51fd789b",
   "metadata": {},
   "outputs": [
    {
     "data": {
      "text/plain": [
       "20"
      ]
     },
     "execution_count": 3,
     "metadata": {},
     "output_type": "execute_result"
    }
   ],
   "source": [
    "2.\n",
    "tuple1[2][2]"
   ]
  },
  {
   "cell_type": "code",
   "execution_count": 4,
   "id": "12139e41",
   "metadata": {},
   "outputs": [
    {
     "data": {
      "text/plain": [
       "3.0"
      ]
     },
     "execution_count": 4,
     "metadata": {},
     "output_type": "execute_result"
    }
   ],
   "source": [
    "3."
   ]
  },
  {
   "cell_type": "code",
   "execution_count": 5,
   "id": "cc62cfb4",
   "metadata": {},
   "outputs": [
    {
     "data": {
      "text/plain": [
       "\"We can't change it, because a tuple is an inmutable\""
      ]
     },
     "execution_count": 5,
     "metadata": {},
     "output_type": "execute_result"
    }
   ],
   "source": [
    "\"We can't change it, because a tuple is an inmutable\""
   ]
  },
  {
   "cell_type": "code",
   "execution_count": 6,
   "id": "3f10f5b6",
   "metadata": {},
   "outputs": [
    {
     "data": {
      "text/plain": [
       "3"
      ]
     },
     "execution_count": 6,
     "metadata": {},
     "output_type": "execute_result"
    }
   ],
   "source": [
    "4.\n",
    "len(tuple1)"
   ]
  },
  {
   "cell_type": "code",
   "execution_count": 7,
   "id": "3d395eae",
   "metadata": {},
   "outputs": [
    {
     "name": "stdout",
     "output_type": "stream",
     "text": [
      "3\n"
     ]
    }
   ],
   "source": [
    "print(len(tuple1))"
   ]
  },
  {
   "cell_type": "code",
   "execution_count": 8,
   "id": "cf5c52ed",
   "metadata": {},
   "outputs": [],
   "source": [
    "5.\n",
    "tuple2 = ([7, 8], [9, 1], [10, 7])"
   ]
  },
  {
   "cell_type": "code",
   "execution_count": 9,
   "id": "d1591d5c",
   "metadata": {},
   "outputs": [
    {
     "data": {
      "text/plain": [
       "'Step 1: We must use the function \"map\" to sum in each sublist of tuple2'"
      ]
     },
     "execution_count": 9,
     "metadata": {},
     "output_type": "execute_result"
    }
   ],
   "source": [
    "'Step 1: We must use the function \"map\" to sum in each sublist of tuple2'"
   ]
  },
  {
   "cell_type": "code",
   "execution_count": 10,
   "id": "839f001b",
   "metadata": {},
   "outputs": [],
   "source": [
    "map_input = map(sum, tuple2)"
   ]
  },
  {
   "cell_type": "code",
   "execution_count": 11,
   "id": "64fc5cd9",
   "metadata": {},
   "outputs": [
    {
     "data": {
      "text/plain": [
       "'Step 2: We must transform map input to a list'"
      ]
     },
     "execution_count": 11,
     "metadata": {},
     "output_type": "execute_result"
    }
   ],
   "source": [
    "\"Step 2: We must transform map input to a list\""
   ]
  },
  {
   "cell_type": "code",
   "execution_count": 12,
   "id": "b3999403",
   "metadata": {},
   "outputs": [],
   "source": [
    "list1 = list(map_input)"
   ]
  },
  {
   "cell_type": "code",
   "execution_count": 13,
   "id": "5a1e228e",
   "metadata": {},
   "outputs": [
    {
     "data": {
      "text/plain": [
       "'Step 3: We must sum all elements of the list'"
      ]
     },
     "execution_count": 13,
     "metadata": {},
     "output_type": "execute_result"
    }
   ],
   "source": [
    "\"Step 3: We must sum all elements of the list\""
   ]
  },
  {
   "cell_type": "code",
   "execution_count": 14,
   "id": "d4364ccd",
   "metadata": {},
   "outputs": [],
   "source": [
    "result = sum(list1)"
   ]
  },
  {
   "cell_type": "code",
   "execution_count": 15,
   "id": "a74e23a3",
   "metadata": {},
   "outputs": [
    {
     "name": "stdout",
     "output_type": "stream",
     "text": [
      "42\n"
     ]
    }
   ],
   "source": [
    "print(result)"
   ]
  },
  {
   "cell_type": "code",
   "execution_count": 16,
   "id": "a747fe39",
   "metadata": {},
   "outputs": [
    {
     "data": {
      "text/plain": [
       "6.0"
      ]
     },
     "execution_count": 16,
     "metadata": {},
     "output_type": "execute_result"
    }
   ],
   "source": [
    "6."
   ]
  },
  {
   "cell_type": "code",
   "execution_count": 17,
   "id": "12da97b4",
   "metadata": {},
   "outputs": [
    {
     "data": {
      "text/plain": [
       "'We use lambda to achieve the same result concisely'"
      ]
     },
     "execution_count": 17,
     "metadata": {},
     "output_type": "execute_result"
    }
   ],
   "source": [
    "\"We use lambda to achieve the same result concisely\""
   ]
  },
  {
   "cell_type": "code",
   "execution_count": 18,
   "id": "4b0a981a",
   "metadata": {},
   "outputs": [
    {
     "name": "stdout",
     "output_type": "stream",
     "text": [
      "([3.5, 4.0], [4.5, 0.5], [5.0, 3.5])\n"
     ]
    }
   ],
   "source": [
    "tuple3 = tuple(map(lambda values: [x / 2 for x in values], tuple2))\n",
    "print(tuple3)"
   ]
  },
  {
   "cell_type": "markdown",
   "id": "fd436bd9",
   "metadata": {},
   "source": [
    "#STRINGS"
   ]
  },
  {
   "cell_type": "code",
   "execution_count": 19,
   "id": "aec557df",
   "metadata": {},
   "outputs": [
    {
     "name": "stdout",
     "output_type": "stream",
     "text": [
      "I am too old\n"
     ]
    }
   ],
   "source": [
    "#01.\n",
    "str1 = 'I am                            too                                                        old'\n",
    "str1 = ' '.join(str1.split())\n",
    "print(str1)"
   ]
  },
  {
   "cell_type": "code",
   "execution_count": 20,
   "id": "8d52e0f0",
   "metadata": {},
   "outputs": [
    {
     "name": "stdout",
     "output_type": "stream",
     "text": [
      "9\n"
     ]
    }
   ],
   "source": [
    "#02.\n",
    "num_letras = len([c for c in str1 if c.isalpha()])\n",
    "print(num_letras)"
   ]
  },
  {
   "cell_type": "code",
   "execution_count": 21,
   "id": "b004fef4",
   "metadata": {},
   "outputs": [
    {
     "name": "stdout",
     "output_type": "stream",
     "text": [
      "3\n"
     ]
    }
   ],
   "source": [
    "#03. \n",
    "num_espacios = len([c for c in str1 if c.isspace()])\n",
    "print(num_espacios)"
   ]
  },
  {
   "cell_type": "code",
   "execution_count": 22,
   "id": "b049eafb",
   "metadata": {},
   "outputs": [
    {
     "name": "stdout",
     "output_type": "stream",
     "text": [
      "[9, 11, 14, 9, 12, 8, 14, 9, 8, 16, 12, 13, 6, 9, 10, 12, 8, 11, 14, 6, 11, 7, 15, 9, 12, 8, 9, 11, 13, 6, 9, 12, 11, 16, 11]\n"
     ]
    }
   ],
   "source": [
    "#04. \n",
    "emails = [\"cscornejo@pucp.edu.pe\", \"orellana.cn@pucp.edu.pe\", \"karina.morales@pucp.edu.pe\", \"a20083223@pucp.pe\", \"abel.camacho@pucp.pe\", \"mtintaya@pucp.edu.pe\", \"joselin.chavez@pucp.edu.pe\", \"a20105737@pucp.pe\", \"jfgomezc@pucp.pe\", \"afrania.palomino@pucp.pe\", \"luzon.bianca@pucp.pe\", \"adrian.suanaz@pucp.pe\", \"soto.y@pucp.edu.pe\", \"a20132766@pucp.pe\", \"andre.lama@pucp.edu.pe\", \"gustavo.meza@pucp.edu.pe\", \"pmlozada@pucp.edu.pe\", \"m.zambranoj@pucp.edu.pe\", \"nicolas.jacobs@pucp.edu.pe\", \"gvidal@pucp.edu.pe\", \"jane.torres@pucp.edu.pe\", \"m.lopez@pucp.edu.pe\", \"alejandro.boyco@pucp.edu.pe\", \"a20167070@pucp.edu.pe\", \"riega.stephy@pucp.edu.pe\", \"vlevanot@pucp.edu.pe\", \"sesquives@pucp.edu.pe\", \"perez.juanc@pucp.edu.pe\", \"mariana.otero@pucp.edu.pe\", \"aclavo@pucp.edu.pe\", \"a20182474@pucp.edu.pe\", \"josue.caldas@pucp.edu.pe\", \"fabio.salas@pucp.edu.pe\", \"fernanda.pizarro@pucp.edu.pe\", \"aquillatupa@pucp.pe\"]\n",
    "posiciones_arroba = list(map(lambda email: email.find('@'), emails))\n",
    "print(posiciones_arroba)"
   ]
  },
  {
   "cell_type": "code",
   "execution_count": 23,
   "id": "e0709ef5",
   "metadata": {},
   "outputs": [
    {
     "name": "stdout",
     "output_type": "stream",
     "text": [
      "[True, True, True, False, False, True, True, False, False, False, False, False, True, False, True, True, True, True, True, True, True, True, True, True, True, True, True, True, True, True, True, True, True, True, False]\n"
     ]
    }
   ],
   "source": [
    "#05.\n",
    "contiene_edu = list(map(lambda email: \".edu.\" in email, emails))\n",
    "print(contiene_edu)"
   ]
  },
  {
   "cell_type": "code",
   "execution_count": 24,
   "id": "b4cf90f5",
   "metadata": {},
   "outputs": [
    {
     "name": "stdout",
     "output_type": "stream",
     "text": [
      "14\n"
     ]
    }
   ],
   "source": [
    "#06. \n",
    "antes_del_punto = list(map(lambda email: email.split('.')[0], emails))\n",
    "con_arroba = sum('@' in parte for parte in antes_del_punto)\n",
    "print(con_arroba)"
   ]
  }
 ],
 "metadata": {
  "kernelspec": {
   "display_name": "Python 3 (ipykernel)",
   "language": "python",
   "name": "python3"
  },
  "language_info": {
   "codemirror_mode": {
    "name": "ipython",
    "version": 3
   },
   "file_extension": ".py",
   "mimetype": "text/x-python",
   "name": "python",
   "nbconvert_exporter": "python",
   "pygments_lexer": "ipython3",
   "version": "3.11.5"
  }
 },
 "nbformat": 4,
 "nbformat_minor": 5
}
