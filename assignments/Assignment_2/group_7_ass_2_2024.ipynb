{
 "cells": [
  {
   "cell_type": "raw",
   "id": "78fb6014",
   "metadata": {},
   "source": [
    "# tuple"
   ]
  },
  {
   "cell_type": "code",
   "execution_count": 6,
   "id": "087c6a65",
   "metadata": {},
   "outputs": [],
   "source": [
    "1.\n",
    "tuple1 = (\"Orange\", [10, 20, 30], (5, 15, 20))"
   ]
  },
  {
   "cell_type": "code",
   "execution_count": 4,
   "id": "5bda609d",
   "metadata": {},
   "outputs": [
    {
     "data": {
      "text/plain": [
       "10"
      ]
     },
     "execution_count": 4,
     "metadata": {},
     "output_type": "execute_result"
    }
   ],
   "source": [
    "tuple1[1][0]"
   ]
  },
  {
   "cell_type": "code",
   "execution_count": 7,
   "id": "51fd789b",
   "metadata": {},
   "outputs": [
    {
     "data": {
      "text/plain": [
       "20"
      ]
     },
     "execution_count": 7,
     "metadata": {},
     "output_type": "execute_result"
    }
   ],
   "source": [
    "2.\n",
    "tuple1[2][2]"
   ]
  },
  {
   "cell_type": "code",
   "execution_count": 8,
   "id": "12139e41",
   "metadata": {},
   "outputs": [
    {
     "data": {
      "text/plain": [
       "3.0"
      ]
     },
     "execution_count": 8,
     "metadata": {},
     "output_type": "execute_result"
    }
   ],
   "source": [
    "3."
   ]
  },
  {
   "cell_type": "code",
   "execution_count": 9,
   "id": "cc62cfb4",
   "metadata": {},
   "outputs": [
    {
     "data": {
      "text/plain": [
       "\"We can't change it, because a tuple is an inmutable\""
      ]
     },
     "execution_count": 9,
     "metadata": {},
     "output_type": "execute_result"
    }
   ],
   "source": [
    "\"We can't change it, because a tuple is an inmutable\""
   ]
  },
  {
   "cell_type": "code",
   "execution_count": 12,
   "id": "3f10f5b6",
   "metadata": {},
   "outputs": [
    {
     "data": {
      "text/plain": [
       "3"
      ]
     },
     "execution_count": 12,
     "metadata": {},
     "output_type": "execute_result"
    }
   ],
   "source": [
    "4.\n",
    "len(tuple1)"
   ]
  },
  {
   "cell_type": "code",
   "execution_count": 11,
   "id": "3d395eae",
   "metadata": {},
   "outputs": [
    {
     "name": "stdout",
     "output_type": "stream",
     "text": [
      "3\n"
     ]
    }
   ],
   "source": [
    "print(len(tuple1))"
   ]
  },
  {
   "cell_type": "code",
   "execution_count": 13,
   "id": "cf5c52ed",
   "metadata": {},
   "outputs": [],
   "source": [
    "5.\n",
    "tuple2 = ([7, 8], [9, 1], [10, 7])"
   ]
  },
  {
   "cell_type": "code",
   "execution_count": 14,
   "id": "d1591d5c",
   "metadata": {},
   "outputs": [
    {
     "data": {
      "text/plain": [
       "'Step 1: We must use the function \"map\" to sum in each sublist of tuple2'"
      ]
     },
     "execution_count": 14,
     "metadata": {},
     "output_type": "execute_result"
    }
   ],
   "source": [
    "'Step 1: We must use the function \"map\" to sum in each sublist of tuple2'"
   ]
  },
  {
   "cell_type": "code",
   "execution_count": 15,
   "id": "839f001b",
   "metadata": {},
   "outputs": [],
   "source": [
    "map_input = map(sum, tuple2)"
   ]
  },
  {
   "cell_type": "code",
   "execution_count": 16,
   "id": "64fc5cd9",
   "metadata": {},
   "outputs": [
    {
     "data": {
      "text/plain": [
       "'Step 2: We must transform map input to a list'"
      ]
     },
     "execution_count": 16,
     "metadata": {},
     "output_type": "execute_result"
    }
   ],
   "source": [
    "\"Step 2: We must transform map input to a list\""
   ]
  },
  {
   "cell_type": "code",
   "execution_count": 17,
   "id": "b3999403",
   "metadata": {},
   "outputs": [],
   "source": [
    "list1 = list(map_input)"
   ]
  },
  {
   "cell_type": "code",
   "execution_count": 18,
   "id": "5a1e228e",
   "metadata": {},
   "outputs": [
    {
     "data": {
      "text/plain": [
       "'Step 3: We must sum all elements of the list'"
      ]
     },
     "execution_count": 18,
     "metadata": {},
     "output_type": "execute_result"
    }
   ],
   "source": [
    "\"Step 3: We must sum all elements of the list\""
   ]
  },
  {
   "cell_type": "code",
   "execution_count": 19,
   "id": "d4364ccd",
   "metadata": {},
   "outputs": [],
   "source": [
    "result = sum(list1)"
   ]
  },
  {
   "cell_type": "code",
   "execution_count": 23,
   "id": "a74e23a3",
   "metadata": {},
   "outputs": [
    {
     "name": "stdout",
     "output_type": "stream",
     "text": [
      "42\n"
     ]
    }
   ],
   "source": [
    "print(result)"
   ]
  },
  {
   "cell_type": "code",
   "execution_count": 24,
   "id": "a747fe39",
   "metadata": {},
   "outputs": [
    {
     "data": {
      "text/plain": [
       "6.0"
      ]
     },
     "execution_count": 24,
     "metadata": {},
     "output_type": "execute_result"
    }
   ],
   "source": [
    "6."
   ]
  },
  {
   "cell_type": "code",
   "execution_count": 25,
   "id": "12da97b4",
   "metadata": {},
   "outputs": [
    {
     "data": {
      "text/plain": [
       "'We use lambda to achieve the same result concisely'"
      ]
     },
     "execution_count": 25,
     "metadata": {},
     "output_type": "execute_result"
    }
   ],
   "source": [
    "\"We use lambda to achieve the same result concisely\""
   ]
  },
  {
   "cell_type": "code",
   "execution_count": 29,
   "id": "4b0a981a",
   "metadata": {},
   "outputs": [
    {
     "name": "stdout",
     "output_type": "stream",
     "text": [
      "([3.5, 4.0], [4.5, 0.5], [5.0, 3.5])\n"
     ]
    }
   ],
   "source": [
    "tuple3 = tuple(map(lambda values: [x / 2 for x in values], tuple2))\n",
    "print(tuple3)"
   ]
  },
  {
   "cell_type": "markdown",
   "id": "fd436bd9",
   "metadata": {},
   "source": [
    "#STRINGS"
   ]
  }
 ],
 "metadata": {
  "kernelspec": {
   "display_name": "Python 3 (ipykernel)",
   "language": "python",
   "name": "python3"
  },
  "language_info": {
   "codemirror_mode": {
    "name": "ipython",
    "version": 3
   },
   "file_extension": ".py",
   "mimetype": "text/x-python",
   "name": "python",
   "nbconvert_exporter": "python",
   "pygments_lexer": "ipython3",
   "version": "3.11.5"
  }
 },
 "nbformat": 4,
 "nbformat_minor": 5
}
