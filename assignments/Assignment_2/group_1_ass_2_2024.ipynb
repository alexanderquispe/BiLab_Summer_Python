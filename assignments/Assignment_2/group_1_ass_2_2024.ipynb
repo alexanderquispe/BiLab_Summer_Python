{
 "cells": [
  {
   "cell_type": "code",
   "execution_count": null,
   "id": "96b3bb84",
   "metadata": {},
   "outputs": [],
   "source": []
  },
  {
   "cell_type": "code",
   "execution_count": null,
   "id": "1c1ec021",
   "metadata": {},
   "outputs": [],
   "source": []
  },
  {
   "cell_type": "code",
   "execution_count": null,
   "id": "3af49a4e",
   "metadata": {
    "scrolled": true
   },
   "outputs": [],
   "source": []
  },
  {
   "cell_type": "markdown",
   "id": "ce99b3ad",
   "metadata": {},
   "source": [
    "1. Tuplas\n"
   ]
  },
  {
   "cell_type": "code",
   "execution_count": null,
   "id": "bd61d082",
   "metadata": {},
   "outputs": [],
   "source": [
    "tuple1 = (\"Orange\", [10, 20, 30], (5, 15, 25))"
   ]
  },
  {
   "cell_type": "code",
   "execution_count": null,
   "id": "c35e07ac",
   "metadata": {},
   "outputs": [],
   "source": [
    "# Primero, los indices inician desde 0 en Phyton por lo que el segundo elemento tiene indice 1. "
   ]
  },
  {
   "cell_type": "code",
   "execution_count": null,
   "id": "193284cd",
   "metadata": {},
   "outputs": [],
   "source": [
    "## Segundo, el primer elemento del segundo elemento tiene indice 0, por lo que la indexación se representa de la siguiente manera"
   ]
  },
  {
   "cell_type": "code",
   "execution_count": 8,
   "id": "3af3bac2",
   "metadata": {
    "scrolled": true
   },
   "outputs": [
    {
     "data": {
      "text/plain": [
       "10"
      ]
     },
     "execution_count": 8,
     "metadata": {},
     "output_type": "execute_result"
    }
   ],
   "source": [
    "tuple1[1][0]\n",
    "\n"
   ]
  },
  {
   "cell_type": "markdown",
   "id": "f247e818",
   "metadata": {},
   "source": [
    "Es importante recordar que los índices empiezan desde 0 en Phyton, por ello el 10 representa el primer elemento del segundo elemento de la tupla. Se usa la indexación[] par obtener el elemento. En este caso, el segundo elemento es el 1 y el primer elemento del segundo elemento es el 0."
   ]
  },
  {
   "cell_type": "code",
   "execution_count": 9,
   "id": "637eccb4",
   "metadata": {},
   "outputs": [
    {
     "data": {
      "text/plain": [
       "(5, 15, 25)"
      ]
     },
     "execution_count": 9,
     "metadata": {},
     "output_type": "execute_result"
    }
   ],
   "source": [
    "tuple1[-1]"
   ]
  },
  {
   "cell_type": "code",
   "execution_count": null,
   "id": "3c2999d3",
   "metadata": {},
   "outputs": [],
   "source": [
    "### En este caso, par aobtener el último elemento de la tupla se usa el -1"
   ]
  },
  {
   "cell_type": "markdown",
   "id": "4769891a",
   "metadata": {},
   "source": [
    "Se usa el valor -1 para obtener el último elemento de la tupla1"
   ]
  },
  {
   "cell_type": "code",
   "execution_count": 7,
   "id": "cc1a026c",
   "metadata": {},
   "outputs": [
    {
     "data": {
      "text/plain": [
       "25"
      ]
     },
     "execution_count": 7,
     "metadata": {},
     "output_type": "execute_result"
    }
   ],
   "source": [
    "tuple1[-1][-1]"
   ]
  },
  {
   "cell_type": "code",
   "execution_count": null,
   "id": "7cd86def",
   "metadata": {},
   "outputs": [],
   "source": [
    "#### Para obtener el ultimo elemento del ultimo elemento de la tupla usamos dos veces el -1 -1"
   ]
  },
  {
   "cell_type": "markdown",
   "id": "1cba6c5f",
   "metadata": {},
   "source": [
    "El último elemento del último elemento de la tupla\n"
   ]
  },
  {
   "cell_type": "markdown",
   "id": "861acffd",
   "metadata": {},
   "source": [
    "3. Change the value \"orange\" for \"pink grapefruit\". Comment the output. Hint: Is it possible?\n",
    "\n",
    "No es posible cambiar el elemento naranja por rosado, ya que las tuplas son contenedores de información que no son modificables, a diferencia de las listas que si pueden ser modificadas."
   ]
  },
  {
   "cell_type": "code",
   "execution_count": 10,
   "id": "abde874d",
   "metadata": {},
   "outputs": [
    {
     "data": {
      "text/plain": [
       "3"
      ]
     },
     "execution_count": 10,
     "metadata": {},
     "output_type": "execute_result"
    }
   ],
   "source": [
    "len (tuple1)"
   ]
  },
  {
   "cell_type": "code",
   "execution_count": null,
   "id": "a590a87c",
   "metadata": {},
   "outputs": [],
   "source": [
    "##### Para determinar el número de elementos de una tupla se usa la función len."
   ]
  },
  {
   "cell_type": "code",
   "execution_count": null,
   "id": "c65c6029",
   "metadata": {},
   "outputs": [],
   "source": [
    "tuple2 = ([7, 8], [9, 1], [10, 7])"
   ]
  },
  {
   "cell_type": "code",
   "execution_count": null,
   "id": "3584adac",
   "metadata": {},
   "outputs": [],
   "source": [
    "resultado = map(sum,tuple2)\n"
   ]
  },
  {
   "cell_type": "code",
   "execution_count": 15,
   "id": "3ca270d0",
   "metadata": {},
   "outputs": [
    {
     "name": "stdout",
     "output_type": "stream",
     "text": [
      "(15, 10, 17)\n"
     ]
    }
   ],
   "source": [
    "print(tuple(resultado))"
   ]
  },
  {
   "cell_type": "markdown",
   "id": "4b2f44c5",
   "metadata": {},
   "source": [
    "En primer lugar, la función map debe incluir la función que se va aplicar y, en este caso es la función suma (sum) de elementos de la tupla. En segundo lugar, se debe colocar el nombre del iterable(tuple2) sobre el cual se va a aplicar la función de sumar elementos. En este caso, el resultado que se obtendra será una tupla con los valores finales de la sumatoria. También podemos convertirlo en una lista pero hemos decidido mantenerlo como tupla"
   ]
  },
  {
   "cell_type": "code",
   "execution_count": null,
   "id": "b088891d",
   "metadata": {},
   "outputs": [],
   "source": [
    "tuple2 = ([7, 8], [9, 1], [10, 7])\n"
   ]
  },
  {
   "cell_type": "code",
   "execution_count": 17,
   "id": "45814db3",
   "metadata": {},
   "outputs": [],
   "source": [
    "tuple3=list(map(lambda el: list(map(lambda el: el/2, el)), tuple2))"
   ]
  },
  {
   "cell_type": "code",
   "execution_count": 18,
   "id": "f40f1526",
   "metadata": {},
   "outputs": [
    {
     "name": "stdout",
     "output_type": "stream",
     "text": [
      "([3.5, 4.0], [4.5, 0.5], [5.0, 3.5])\n"
     ]
    }
   ],
   "source": [
    "print(tuple(tuple3))"
   ]
  },
  {
   "cell_type": "markdown",
   "id": "12964cd0",
   "metadata": {},
   "source": [
    "2. Listas\n"
   ]
  },
  {
   "cell_type": "code",
   "execution_count": null,
   "id": "34281910",
   "metadata": {},
   "outputs": [],
   "source": [
    "import numpy as np"
   ]
  },
  {
   "cell_type": "code",
   "execution_count": null,
   "id": "96b351ff",
   "metadata": {},
   "outputs": [],
   "source": [
    "f_list = [np.nan , np.nan, \"Austria\", \"Germany\", np.nan, \"Pakistan\", \"np.nan\", np.nan ]\n"
   ]
  },
  {
   "cell_type": "code",
   "execution_count": null,
   "id": "ea2fbe50",
   "metadata": {},
   "outputs": [],
   "source": [
    "np.nam=0,1,4,7"
   ]
  },
  {
   "cell_type": "code",
   "execution_count": null,
   "id": "c37668ab",
   "metadata": {},
   "outputs": [],
   "source": [
    "print(f\"The indices {np.nam} have np.nan values.\")"
   ]
  },
  {
   "cell_type": "code",
   "execution_count": 4,
   "id": "8a810545",
   "metadata": {},
   "outputs": [
    {
     "name": "stdout",
     "output_type": "stream",
     "text": [
      "[2, 3, 4, 5, 2, 3, 4, 5, 2, 3, 4, 5, 2, 3, 4, 5]\n"
     ]
    }
   ],
   "source": [
    "p2_list = [2, 3, 4, 5]\n",
    "replicated = p2_list * 4\n",
    "print(replicated)"
   ]
  },
  {
   "cell_type": "code",
   "execution_count": null,
   "id": "6a1212c8",
   "metadata": {},
   "outputs": [],
   "source": [
    "Simplemente se multiplica la lista p2_list por 4 para replicar sus valores y se imprime la salida."
   ]
  },
  {
   "cell_type": "code",
   "execution_count": 5,
   "id": "0cf71eed",
   "metadata": {},
   "outputs": [
    {
     "name": "stdout",
     "output_type": "stream",
     "text": [
      "f_list 8\n"
     ]
    }
   ],
   "source": [
    "import numpy as np\n",
    "f_list = [np.nan , np.nan, \"Austria\", \"Germany\", np.nan, \"Pakistan\", \"np.nan\", np.nan ]\n",
    "print(\"f_list\", len(f_list))"
   ]
  },
  {
   "cell_type": "code",
   "execution_count": null,
   "id": "fefff48b",
   "metadata": {},
   "outputs": [],
   "source": [
    "Se utiliza la función len para obtener la longitud de la lista y se imprime."
   ]
  },
  {
   "cell_type": "code",
   "execution_count": null,
   "id": "2d2ec80f",
   "metadata": {},
   "outputs": [],
   "source": [
    "text1 = ['My', 'teacher', 'assistant', 'is', 'so', 'boring.']"
   ]
  },
  {
   "cell_type": "code",
   "execution_count": null,
   "id": "50442f88",
   "metadata": {},
   "outputs": [],
   "source": [
    "separador =  ' '"
   ]
  },
  {
   "cell_type": "code",
   "execution_count": null,
   "id": "2839588a",
   "metadata": {},
   "outputs": [],
   "source": [
    "textofinal= separador.join(text1)"
   ]
  },
  {
   "cell_type": "code",
   "execution_count": null,
   "id": "0580f180",
   "metadata": {},
   "outputs": [],
   "source": [
    "print(textofinal)"
   ]
  },
  {
   "cell_type": "code",
   "execution_count": null,
   "id": "5cc4948d",
   "metadata": {},
   "outputs": [],
   "source": [
    "texto2= [',','but is very funny']"
   ]
  },
  {
   "cell_type": "code",
   "execution_count": null,
   "id": "ecdf2b23",
   "metadata": {},
   "outputs": [],
   "source": [
    "text1.extend(texto2)"
   ]
  },
  {
   "cell_type": "code",
   "execution_count": null,
   "id": "19fd218b",
   "metadata": {},
   "outputs": [],
   "source": [
    "print(text1)"
   ]
  },
  {
   "cell_type": "code",
   "execution_count": null,
   "id": "f6ac769b",
   "metadata": {},
   "outputs": [],
   "source": [
    "separador =  ' '"
   ]
  },
  {
   "cell_type": "code",
   "execution_count": null,
   "id": "ac44513a",
   "metadata": {},
   "outputs": [],
   "source": [
    "text1[5] = 'boring'"
   ]
  },
  {
   "cell_type": "code",
   "execution_count": null,
   "id": "f3727a5b",
   "metadata": {},
   "outputs": [],
   "source": [
    "print(text1)"
   ]
  },
  {
   "cell_type": "code",
   "execution_count": null,
   "id": "e23e297e",
   "metadata": {},
   "outputs": [],
   "source": [
    "textofinal2= separador.join(text1)"
   ]
  },
  {
   "cell_type": "code",
   "execution_count": null,
   "id": "a78f2f14",
   "metadata": {},
   "outputs": [],
   "source": [
    "print(textofinal2)"
   ]
  },
  {
   "cell_type": "code",
   "execution_count": null,
   "id": "56252c30",
   "metadata": {},
   "outputs": [],
   "source": [
    "values1 = [ 86, 86, 85, 85, 85, 83, 23, 0, 84, 1 ] "
   ]
  },
  {
   "cell_type": "code",
   "execution_count": null,
   "id": "bf3e1653",
   "metadata": {},
   "outputs": [],
   "source": [
    "max(values1)"
   ]
  },
  {
   "cell_type": "code",
   "execution_count": null,
   "id": "fa0f0758",
   "metadata": {},
   "outputs": [],
   "source": [
    "min(values1)"
   ]
  },
  {
   "cell_type": "code",
   "execution_count": null,
   "id": "23e4ffdd",
   "metadata": {},
   "outputs": [],
   "source": [
    "maximo=max(values1)"
   ]
  },
  {
   "cell_type": "code",
   "execution_count": null,
   "id": "ed111b85",
   "metadata": {},
   "outputs": [],
   "source": [
    "print(maximo)"
   ]
  },
  {
   "cell_type": "markdown",
   "id": "43648f72",
   "metadata": {},
   "source": []
  },
  {
   "cell_type": "code",
   "execution_count": null,
   "id": "355cab3d",
   "metadata": {},
   "outputs": [],
   "source": [
    "minimo=min(values1)"
   ]
  },
  {
   "cell_type": "code",
   "execution_count": null,
   "id": "8ffd96d5",
   "metadata": {},
   "outputs": [],
   "source": [
    "print(minimo)"
   ]
  },
  {
   "cell_type": "code",
   "execution_count": null,
   "id": "0dc69742",
   "metadata": {},
   "outputs": [],
   "source": [
    "print(f\"The max value of values1 is {maximo} and is located in the 0 index.\")"
   ]
  },
  {
   "cell_type": "code",
   "execution_count": null,
   "id": "e6acbb9d",
   "metadata": {},
   "outputs": [],
   "source": [
    "print(f\"The min value of values1 is {minimo} and is located in the 7 index.\")"
   ]
  },
  {
   "cell_type": "code",
   "execution_count": null,
   "id": "219c2915",
   "metadata": {},
   "outputs": [],
   "source": [
    "Se utilizan las funciones max, min e index para encontrar y mostrar los valores y los índices correspondientes."
   ]
  },
  {
   "cell_type": "code",
   "execution_count": 3,
   "id": "785a0641",
   "metadata": {},
   "outputs": [
    {
     "name": "stdout",
     "output_type": "stream",
     "text": [
      "Nombres: ['CHRISTIAN SANTOS', 'CRISTIAN NASSER', 'ANGELICA KARINA', 'JOSE ROBERTO', 'ABEL FERNANDO', 'MEIR ALVARO', 'JOSELIN ALEXANDRA', 'LEONEL ARTURO', 'JOSE FELIPE', 'AFRANIA', 'BIANCA MARIETTE', 'ADRIAN ANDRE', 'DORKAS YOMIRA JHERMY', 'LADY ALY', 'HECTOR ANDRE', 'GUSTAVO', 'PERSEO MARCELO', 'MIGUEL ALONZO', 'NICOLAS', 'ROCIO GABRIELA', 'JANE CAMILA', 'MARIA ELISA', 'ALEJANDRO', 'KARLINE ROSMELI', 'STEPHY ROSARIO', 'VALERIA CECILIA', 'SEBASTIAN RENATO', 'JUAN CARLOS', 'MARIANA', 'ANDREA BRIZETH', 'ERICK JOSUE', 'JOSUE DANIEL', 'FABIO MANUEL', 'FERNANDA NICOLLE', 'ANGELA ADELINA', 'CESAR DANTE', 'GABRIELA ISABEL', 'ANGEL MAURICIO', 'JUAN DIEGO', 'ARONE', 'PERCY ALBERTH', 'KEVIN ARTURO', 'CESAR ERNESTO', 'CÉSAR AGUSTO', 'DIANA EDITH', 'RODRIGO FRANCO', 'GRETTEL ALEXANDRA', 'ROSA ANGELA', 'DANTE OMAR', 'YAJAIRA ALEXANDRA', 'JORGE ALBERTO', 'ALEXIS']\n"
     ]
    }
   ],
   "source": [
    "last_and_name = [ \"CORNEJO SANCHEZ, CHRISTIAN SANTOS\", \"ORELLANA QUISPE, CRISTIAN NASSER\", \"MORALES CHOQUEHUANCA, ANGELICA KARINA\", \"GUIMARAY RIBEYRO, JOSE ROBERTO\", \"CAMACHO GAVIDIA, ABEL FERNANDO\", \"TINTAYA ORIHUELA, MEIR ALVARO\", \"CHAVEZ MARTINEZ, JOSELIN ALEXANDRA\", \"FIGUEROA MURO, LEONEL ARTURO\", \"GOMEZ CRIBILLERO, JOSE FELIPE\", \"PALOMINO SEGUÍN, AFRANIA\", \"LUZON CUEVA, BIANCA MARIETTE\", \"SUAÑA ZEGARRA, ADRIAN ANDRE\", \"SOTO POMACHAGUA, DORKAS YOMIRA JHERMY\", \"FIORENTINO MARTINEZ, LADY ALY\", \"LAMA MAVILA, HECTOR ANDRE\", \"MEZA HINOJO, GUSTAVO\", \"LOZADA MURILLO, PERSEO MARCELO\", \"ZAMBRANO JIMENEZ, MIGUEL ALONZO\", \"JACOBS LUQUE, NICOLAS\", \"VIDAL VIDAL, ROCIO GABRIELA\", \"TORRES ANICAMA, JANE CAMILA\", \"LOPEZ ESTRADA, MARIA ELISA\", \"BOYCO ORAMS, ALEJANDRO\", \"DIAZ BERROSPI, KARLINE ROSMELI\", \"RIEGA ESCALANTE, STEPHY ROSARIO\", \"LEVANO TORRES, VALERIA CECILIA\", \"ESQUIVES BRAVO, SEBASTIAN RENATO\", \"PEREZ GONZALES, JUAN CARLOS\", \"OTERO MAGUIÑA, MARIANA\", \"CLAVO CAMPOS, ANDREA BRIZETH\", \"AGUILAR GARCIA, ERICK JOSUE\", \"CALDAS VELASQUEZ, JOSUE DANIEL\", \"SALAS NUÑEZ BORJA, FABIO MANUEL\", \"PIZARRO VILLANES, FERNANDA NICOLLE\", \"QUILLATUPA MORALES, ANGELA ADELINA\", \"HUANCAYA IDONE, CESAR DANTE\", \"CALVO PORTOCARRERO, GABRIELA ISABEL\", \"IBAÑEZ ABANTO, ANGEL MAURICIO\", \"MELÉNDEZ APONTE, JUAN DIEGO\", \"CRISTIAN SERRANO, ARONE\", \"HINOJOSA CAHUANA, PERCY ALBERTH\", \"ANGLAS GARCÍA, KEVIN ARTURO\", \"ALDAVE ACOSTA, CESAR ERNESTO\", \"NÚÑEZ HUAMÁN, CÉSAR AGUSTO\", \"OBREGON HUAMAN, DIANA EDITH\", \"SOTO PACHERRES, RODRIGO FRANCO\", \"INGARUCA RIVERA, GRETTEL ALEXANDRA\", \"ROJAS HUAMAN, ROSA ANGELA\", \"NEYRA SALAS, DANTE OMAR\", \"HUERTA ESPINOZA, YAJAIRA ALEXANDRA\", \"HUANCA MARTINEZ, JORGE ALBERTO\", \"FLORES CADILLO, ALEXIS\" ]\n",
    "nombres = list(map(lambda full_name: full_name.split(',')[1].lstrip(), last_and_name))\n",
    "print(\"Nombres:\", nombres)"
   ]
  },
  {
   "cell_type": "code",
   "execution_count": 1,
   "id": "55d89ee1",
   "metadata": {},
   "outputs": [
    {
     "name": "stdout",
     "output_type": "stream",
     "text": [
      "Apellidos de estudiantes sin correo electrónico: ['HUANCAYA IDONE', 'CALVO PORTOCARRERO', 'IBAÑEZ ABANTO', 'MELÉNDEZ APONTE', 'CRISTIAN SERRANO', 'ANGLAS GARCÍA', 'ALDAVE ACOSTA', 'NÚÑEZ HUAMÁN', 'OBREGON HUAMAN', 'SOTO PACHERRES', 'INGARUCA RIVERA', 'ROJAS HUAMAN', 'NEYRA SALAS', 'HUERTA ESPINOZA', 'HUANCA MARTINEZ']\n"
     ]
    }
   ],
   "source": [
    "last_and_name = [ \"CORNEJO SANCHEZ, CHRISTIAN SANTOS\", \"ORELLANA QUISPE, CRISTIAN NASSER\", \"MORALES CHOQUEHUANCA, ANGELICA KARINA\", \"GUIMARAY RIBEYRO, JOSE ROBERTO\", \"CAMACHO GAVIDIA, ABEL FERNANDO\", \"TINTAYA ORIHUELA, MEIR ALVARO\", \"CHAVEZ MARTINEZ, JOSELIN ALEXANDRA\", \"FIGUEROA MURO, LEONEL ARTURO\", \"GOMEZ CRIBILLERO, JOSE FELIPE\", \"PALOMINO SEGUÍN, AFRANIA\", \"LUZON CUEVA, BIANCA MARIETTE\", \"SUAÑA ZEGARRA, ADRIAN ANDRE\", \"SOTO POMACHAGUA, DORKAS YOMIRA JHERMY\", \"FIORENTINO MARTINEZ, LADY ALY\", \"LAMA MAVILA, HECTOR ANDRE\", \"MEZA HINOJO, GUSTAVO\", \"LOZADA MURILLO, PERSEO MARCELO\", \"ZAMBRANO JIMENEZ, MIGUEL ALONZO\", \"JACOBS LUQUE, NICOLAS\", \"VIDAL VIDAL, ROCIO GABRIELA\", \"TORRES ANICAMA, JANE CAMILA\", \"LOPEZ ESTRADA, MARIA ELISA\", \"BOYCO ORAMS, ALEJANDRO\", \"DIAZ BERROSPI, KARLINE ROSMELI\", \"RIEGA ESCALANTE, STEPHY ROSARIO\", \"LEVANO TORRES, VALERIA CECILIA\", \"ESQUIVES BRAVO, SEBASTIAN RENATO\", \"PEREZ GONZALES, JUAN CARLOS\", \"OTERO MAGUIÑA, MARIANA\", \"CLAVO CAMPOS, ANDREA BRIZETH\", \"AGUILAR GARCIA, ERICK JOSUE\", \"CALDAS VELASQUEZ, JOSUE DANIEL\", \"SALAS NUÑEZ BORJA, FABIO MANUEL\", \"PIZARRO VILLANES, FERNANDA NICOLLE\", \"QUILLATUPA MORALES, ANGELA ADELINA\", \"HUANCAYA IDONE, CESAR DANTE\", \"CALVO PORTOCARRERO, GABRIELA ISABEL\", \"IBAÑEZ ABANTO, ANGEL MAURICIO\", \"MELÉNDEZ APONTE, JUAN DIEGO\", \"CRISTIAN SERRANO, ARONE\", \"HINOJOSA CAHUANA, PERCY ALBERTH\", \"ANGLAS GARCÍA, KEVIN ARTURO\", \"ALDAVE ACOSTA, CESAR ERNESTO\", \"NÚÑEZ HUAMÁN, CÉSAR AGUSTO\", \"OBREGON HUAMAN, DIANA EDITH\", \"SOTO PACHERRES, RODRIGO FRANCO\", \"INGARUCA RIVERA, GRETTEL ALEXANDRA\", \"ROJAS HUAMAN, ROSA ANGELA\", \"NEYRA SALAS, DANTE OMAR\", \"HUERTA ESPINOZA, YAJAIRA ALEXANDRA\", \"HUANCA MARTINEZ, JORGE ALBERTO\", \"FLORES CADILLO, ALEXIS\" ]\n",
    "emails = [\"cscornejo@pucp.edu.pe\", \"orellana.cn@pucp.edu.pe\", \"karina.morales@pucp.edu.pe\", \"a20083223@pucp.pe\", \"abel.camacho@pucp.pe\", \"mtintaya@pucp.edu.pe\", \"joselin.chavez@pucp.edu.pe\", \"a20105737@pucp.pe\", \"jfgomezc@pucp.pe\", \"afrania.palomino@pucp.pe\", \"luzon.bianca@pucp.pe\", \"adrian.suanaz@pucp.pe\", \"soto.y@pucp.edu.pe\", \"a20132766@pucp.pe\", \"andre.lama@pucp.edu.pe\", \"gustavo.meza@pucp.edu.pe\", \"pmlozada@pucp.edu.pe\", \"m.zambranoj@pucp.edu.pe\", \"nicolas.jacobs@pucp.edu.pe\", \"gvidal@pucp.edu.pe\", \"jane.torres@pucp.edu.pe\", \"m.lopez@pucp.edu.pe\", \"alejandro.boyco@pucp.edu.pe\", \"a20167070@pucp.edu.pe\", \"riega.stephy@pucp.edu.pe\", \"vlevanot@pucp.edu.pe\", \"sesquives@pucp.edu.pe\", \"perez.juanc@pucp.edu.pe\", \"mariana.otero@pucp.edu.pe\", \"aclavo@pucp.edu.pe\", \"a20182474@pucp.edu.pe\", \"josue.caldas@pucp.edu.pe\", \"fabio.salas@pucp.edu.pe\", \"fernanda.pizarro@pucp.edu.pe\", \"aquillatupa@pucp.pe\", \"\", \"\", \"\", \"\", \"\", \"f0873079@pucp.edu.pe\", \"\", \"\", \"\", \"\", \"\", \"\", \"\", \"\", \"\", \"\", \"flores.alexis@pucp.edu.pe\", ]\n",
    "last_names = list(map(lambda full_name: full_name.split(',')[0], last_and_name))\n",
    "combined_data = zip(last_names, emails)\n",
    "last_names_no_email = [last_name for last_name, email in combined_data if email == '']\n",
    "print(\"Apellidos de estudiantes sin correo electrónico:\", last_names_no_email)"
   ]
  },
  {
   "cell_type": "markdown",
   "id": "e3b35d36",
   "metadata": {},
   "source": [
    "String"
   ]
  },
  {
   "cell_type": "code",
   "execution_count": null,
   "id": "a9331011",
   "metadata": {},
   "outputs": [],
   "source": [
    "#Agregamos los datos al str1\n",
    "str1 = 'I am                            too                                                        old'"
   ]
  },
  {
   "cell_type": "code",
   "execution_count": null,
   "id": "8218078e",
   "metadata": {},
   "outputs": [],
   "source": [
    "#Eliminamos los espacios en blanco\n",
    "withoutblanks_str1 = ' '.join(str1.split())\n",
    "print(withoutblanks_str1)"
   ]
  },
  {
   "cell_type": "code",
   "execution_count": null,
   "id": "1b3214d6",
   "metadata": {},
   "outputs": [],
   "source": [
    "#Sumamos con la funcion sum de manera alfabetica\n",
    "suma_letras = sum(char.isalpha() for char in str1)\n",
    "print(suma_letras)"
   ]
  },
  {
   "cell_type": "code",
   "execution_count": null,
   "id": "c0711718",
   "metadata": {},
   "outputs": [],
   "source": [
    "#Recuperamos los espacios en blanco\n",
    "suma_espacios_blanco = sum(map(str.isspace, str1))\n",
    "print(suma_espacios_blanco)"
   ]
  }
 ],
 "metadata": {
  "kernelspec": {
   "display_name": "Python 3 (ipykernel)",
   "language": "python",
   "name": "python3"
  },
  "language_info": {
   "codemirror_mode": {
    "name": "ipython",
    "version": 3
   },
   "file_extension": ".py",
   "mimetype": "text/x-python",
   "name": "python",
   "nbconvert_exporter": "python",
   "pygments_lexer": "ipython3",
   "version": "3.11.5"
  }
 },
 "nbformat": 4,
 "nbformat_minor": 5
}
