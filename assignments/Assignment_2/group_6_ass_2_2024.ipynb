{
 "cells": [
  {
   "cell_type": "markdown",
   "id": "4bce722f",
   "metadata": {},
   "source": [
    "## 1.1 Tuple"
   ]
  },
  {
   "cell_type": "markdown",
   "id": "e1074f6c",
   "metadata": {},
   "source": [
    "### 1. To access the first element, I used \"[1]\" and to access element 0 of the first element, I used \"[0]\""
   ]
  },
  {
   "cell_type": "code",
   "execution_count": null,
   "id": "e93e9d79",
   "metadata": {},
   "outputs": [],
   "source": [
    "tuple1 = (\"Orange\", [10, 20, 30], (5, 15, 25)) \n",
    "\n",
    "print(tuple1[1][0])"
   ]
  },
  {
   "cell_type": "markdown",
   "id": "c7baeb6b",
   "metadata": {},
   "source": [
    "### 2. To access the last item, I used [2] for selecting location"
   ]
  },
  {
   "cell_type": "code",
   "execution_count": null,
   "id": "f67882ce",
   "metadata": {},
   "outputs": [],
   "source": [
    "tuple1 = (\"Orange\", [10, 20, 30], (5, 15, 25))\n",
    "print(tuple1[2])"
   ]
  },
  {
   "cell_type": "markdown",
   "id": "af858c99",
   "metadata": {},
   "source": [
    "### 3. We change the word \"Orange\" replacing it with \"pink grapefruit\". In this case, it is posisble to replace the elements of the tuple1, because we are just renaming the composition of the first item of the tuple1 and keeping the rest items."
   ]
  },
  {
   "cell_type": "code",
   "execution_count": null,
   "id": "37defe72",
   "metadata": {},
   "outputs": [],
   "source": [
    "tuple1 = (\"Orange\", [10, 20, 30], (5, 15, 25))\n",
    "tuple1 = (\"pink grapefruit\", [10, 20, 30], (5, 15, 25))\n",
    "print(tuple1)"
   ]
  },
  {
   "cell_type": "markdown",
   "id": "378692a6",
   "metadata": {},
   "source": [
    "### 4. We apply the \"Len\" function to calculate the number of items"
   ]
  },
  {
   "cell_type": "code",
   "execution_count": null,
   "id": "a2fc1914",
   "metadata": {},
   "outputs": [],
   "source": [
    "len(tuple1)"
   ]
  },
  {
   "cell_type": "markdown",
   "id": "22b9fe5d",
   "metadata": {},
   "source": [
    "###  5. We use \"map\" to apply the sum list function to each sublist in tuple2"
   ]
  },
  {
   "cell_type": "code",
   "execution_count": null,
   "id": "339068ba",
   "metadata": {},
   "outputs": [],
   "source": [
    "tuple2 = ([7, 8], [9, 1], [10, 7])\n",
    "X = sum(map(sum, tuple2))\n",
    "print(X)"
   ]
  },
  {
   "cell_type": "markdown",
   "id": "7cc1cb40",
   "metadata": {},
   "source": [
    "### 6. We use \"map\" to apply the sum list function to each sublist in tuple3 but first, we need to find the half values of tuple2"
   ]
  },
  {
   "cell_type": "code",
   "execution_count": null,
   "id": "49b29a30",
   "metadata": {},
   "outputs": [],
   "source": [
    "tuple3 = ([3.5, 4], [4.5, 0.5], [5, 3.5])\n",
    "y= sum(map(sum , tuple3))\n",
    "print(y)"
   ]
  },
  {
   "cell_type": "markdown",
   "id": "46c07039",
   "metadata": {},
   "source": [
    "## 1.2 List"
   ]
  },
  {
   "cell_type": "code",
   "execution_count": null,
   "id": "955923f6",
   "metadata": {},
   "outputs": [],
   "source": [
    "1. Show the indices of the np.nan values in the f_list list. We want to see this output: The indices 0, 1, 4, 7 have np.nan values. Hint: Use print function and f-strings to insert the indices values."
   ]
  },
  {
   "cell_type": "code",
   "execution_count": null,
   "id": "12f91484",
   "metadata": {},
   "outputs": [],
   "source": [
    "nan_indices = [index for index, val in enumerate(f_list) if isinstance(val, float) and np.isnan(val)]\n",
    "print(f\"The indices {', '.join(map(str, nan_indices))} have np.nan values.\")"
   ]
  },
  {
   "cell_type": "code",
   "execution_count": null,
   "id": "36482352",
   "metadata": {},
   "outputs": [],
   "source": [
    "2. Replicate 4 times the values of the list p2_list. We expect an ouput like this: [ 2 , 3, 4, 5, 2 , 3, 4, 5, 2 , 3, 4, 5, 2 , 3, 4, 5]"
   ]
  },
  {
   "cell_type": "code",
   "execution_count": null,
   "id": "7c488a3e",
   "metadata": {},
   "outputs": [],
   "source": [
    "p2_list = [2, 3, 4, 5]\n",
    "replicated = p2_list * 4\n",
    "print(replicated)"
   ]
  },
  {
   "cell_type": "code",
   "execution_count": null,
   "id": "666c6df3",
   "metadata": {},
   "outputs": [],
   "source": [
    "3. Print the length of f_list."
   ]
  },
  {
   "cell_type": "code",
   "execution_count": null,
   "id": "b600f6d7",
   "metadata": {},
   "outputs": [],
   "source": [
    "print(\"f_list\", len(f_list))"
   ]
  },
  {
   "cell_type": "code",
   "execution_count": null,
   "id": "84a94d53",
   "metadata": {},
   "outputs": [],
   "source": [
    "4. Print My teacher assistant is so boring. using text1 list."
   ]
  },
  {
   "cell_type": "code",
   "execution_count": null,
   "id": "12251a68",
   "metadata": {},
   "outputs": [],
   "source": [
    "text1 = ['My', 'teacher', 'assistant', 'is', 'so', 'boring.']\n",
    "string = ' '.join(text1)\n",
    "print(string)"
   ]
  },
  {
   "cell_type": "code",
   "execution_count": null,
   "id": "1c16197c",
   "metadata": {},
   "outputs": [],
   "source": [
    "5. Print My TA is so boring, but is very funny. using text1 list."
   ]
  },
  {
   "cell_type": "code",
   "execution_count": null,
   "id": "3c093430",
   "metadata": {},
   "outputs": [],
   "source": [
    "text1.extend(['but', 'is', 'very', 'funny.'])\n",
    "print(' '.join(text1))"
   ]
  },
  {
   "cell_type": "code",
   "execution_count": null,
   "id": "8cb7c080",
   "metadata": {},
   "outputs": [],
   "source": [
    "6. Print The max value of values1 is 86 and is located in the 0 index."
   ]
  },
  {
   "cell_type": "code",
   "execution_count": null,
   "id": "06ffe5d9",
   "metadata": {},
   "outputs": [],
   "source": [
    "text1.extend(['but', 'is', 'very', 'funny.'])\n",
    "print(' '.join(text1))"
   ]
  },
  {
   "cell_type": "code",
   "execution_count": null,
   "id": "bbb58200",
   "metadata": {},
   "outputs": [],
   "source": [
    "7. Get two lists: `names` and `last_names` using `last_and_name` list."
   ]
  },
  {
   "cell_type": "code",
   "execution_count": null,
   "id": "9bd729d1",
   "metadata": {},
   "outputs": [],
   "source": [
    "last_and_name = [ \"CORNEJO SANCHEZ, CHRISTIAN SANTOS\", \"ORELLANA QUISPE, CRISTIAN NASSER\", \"MORALES CHOQUEHUANCA, ANGELICA KARINA\", \"GUIMARAY RIBEYRO, JOSE ROBERTO\", \"CAMACHO GAVIDIA, ABEL FERNANDO\", \"TINTAYA ORIHUELA, MEIR ALVARO\", \"CHAVEZ MARTINEZ, JOSELIN ALEXANDRA\", \"FIGUEROA MURO, LEONEL ARTURO\", \"GOMEZ CRIBILLERO, JOSE FELIPE\", \"PALOMINO SEGUÍN, AFRANIA\", \"LUZON CUEVA, BIANCA MARIETTE\", \"SUAÑA ZEGARRA, ADRIAN ANDRE\", \"SOTO POMACHAGUA, DORKAS YOMIRA JHERMY\", \"FIORENTINO MARTINEZ, LADY ALY\", \"LAMA MAVILA, HECTOR ANDRE\", \"MEZA HINOJO, GUSTAVO\", \"LOZADA MURILLO, PERSEO MARCELO\", \"ZAMBRANO JIMENEZ, MIGUEL ALONZO\", \"JACOBS LUQUE, NICOLAS\", \"VIDAL VIDAL, ROCIO GABRIELA\", \"TORRES ANICAMA, JANE CAMILA\", \"LOPEZ ESTRADA, MARIA ELISA\", \"BOYCO ORAMS, ALEJANDRO\", \"DIAZ BERROSPI, KARLINE ROSMELI\", \"RIEGA ESCALANTE, STEPHY ROSARIO\", \"LEVANO TORRES, VALERIA CECILIA\", \"ESQUIVES BRAVO, SEBASTIAN RENATO\", \"PEREZ GONZALES, JUAN CARLOS\", \"OTERO MAGUIÑA, MARIANA\", \"CLAVO CAMPOS, ANDREA BRIZETH\", \"AGUILAR GARCIA, ERICK JOSUE\", \"CALDAS VELASQUEZ, JOSUE DANIEL\", \"SALAS NUÑEZ BORJA, FABIO MANUEL\", \"PIZARRO VILLANES, FERNANDA NICOLLE\", \"QUILLATUPA MORALES, ANGELA ADELINA\", \"HUANCAYA IDONE, CESAR DANTE\", \"CALVO PORTOCARRERO, GABRIELA ISABEL\", \"IBAÑEZ ABANTO, ANGEL MAURICIO\", \"MELÉNDEZ APONTE, JUAN DIEGO\", \"CRISTIAN SERRANO, ARONE\", \"HINOJOSA CAHUANA, PERCY ALBERTH\", \"ANGLAS GARCÍA, KEVIN ARTURO\", \"ALDAVE ACOSTA, CESAR ERNESTO\", \"NÚÑEZ HUAMÁN, CÉSAR AGUSTO\", \"OBREGON HUAMAN, DIANA EDITH\", \"SOTO PACHERRES, RODRIGO FRANCO\", \"INGARUCA RIVERA, GRETTEL ALEXANDRA\", \"ROJAS HUAMAN, ROSA ANGELA\", \"NEYRA SALAS, DANTE OMAR\", \"HUERTA ESPINOZA, YAJAIRA ALEXANDRA\", \"HUANCA MARTINEZ, JORGE ALBERTO\", \"FLORES CADILLO, ALEXIS\" ]\n",
    "names = list(map(lambda full_name: full_name.split(',')[1].lstrip(), last_and_name))\n",
    "print(\"Names:\", names)"
   ]
  },
  {
   "cell_type": "code",
   "execution_count": null,
   "id": "55ad4112",
   "metadata": {},
   "outputs": [],
   "source": [
    "last_names = list(map(lambda full_name: full_name.split(',')[0], last_and_name))\n",
    "print(\"Last Names:\", last_names)"
   ]
  }
 ],
 "metadata": {
  "kernelspec": {
   "display_name": "Python 3 (ipykernel)",
   "language": "python",
   "name": "python3"
  },
  "language_info": {
   "codemirror_mode": {
    "name": "ipython",
    "version": 3
   },
   "file_extension": ".py",
   "mimetype": "text/x-python",
   "name": "python",
   "nbconvert_exporter": "python",
   "pygments_lexer": "ipython3",
   "version": "3.11.5"
  }
 },
 "nbformat": 4,
 "nbformat_minor": 5
}
