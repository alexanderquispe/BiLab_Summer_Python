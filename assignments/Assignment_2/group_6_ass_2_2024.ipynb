{
 "cells": [
  {
   "cell_type": "markdown",
   "id": "4bce722f",
   "metadata": {},
   "source": [
    "## 1.1 Tuple"
   ]
  },
  {
   "cell_type": "markdown",
   "id": "e1074f6c",
   "metadata": {},
   "source": [
    "### 1. To access the first element, I used \"[1]\" and to access element 0 of the first element, I used \"[0]\""
   ]
  },
  {
   "cell_type": "code",
   "execution_count": null,
   "id": "e93e9d79",
   "metadata": {
    "vscode": {
     "languageId": "plaintext"
    }
   },
   "outputs": [],
   "source": [
    "tuple1 = (\"Orange\", [10, 20, 30], (5, 15, 25)) \n",
    "\n",
    "print(tuple1[1][0])"
   ]
  },
  {
   "cell_type": "markdown",
   "id": "c7baeb6b",
   "metadata": {},
   "source": [
    "### 2. To access the last item, I used [2] for selecting location"
   ]
  },
  {
   "cell_type": "code",
   "execution_count": null,
   "id": "f67882ce",
   "metadata": {
    "vscode": {
     "languageId": "plaintext"
    }
   },
   "outputs": [],
   "source": [
    "tuple1 = (\"Orange\", [10, 20, 30], (5, 15, 25))\n",
    "print(tuple1[2])"
   ]
  },
  {
   "cell_type": "markdown",
   "id": "af858c99",
   "metadata": {},
   "source": [
    "### 3. We change the word \"Orange\" replacing it with \"pink grapefruit\". In this case, it is posisble to replace the elements of the tuple1, because we are just renaming the composition of the first item of the tuple1 and keeping the rest items."
   ]
  },
  {
   "cell_type": "code",
   "execution_count": null,
   "id": "37defe72",
   "metadata": {
    "vscode": {
     "languageId": "plaintext"
    }
   },
   "outputs": [],
   "source": [
    "tuple1 = (\"Orange\", [10, 20, 30], (5, 15, 25))\n",
    "tuple1 = (\"pink grapefruit\", [10, 20, 30], (5, 15, 25))\n",
    "print(tuple1)"
   ]
  },
  {
   "cell_type": "markdown",
   "id": "378692a6",
   "metadata": {},
   "source": [
    "### 4. We apply the \"Len\" function to calculate the number of items"
   ]
  },
  {
   "cell_type": "code",
   "execution_count": null,
   "id": "a2fc1914",
   "metadata": {
    "vscode": {
     "languageId": "plaintext"
    }
   },
   "outputs": [],
   "source": [
    "len(tuple1)"
   ]
  },
  {
   "cell_type": "markdown",
   "id": "22b9fe5d",
   "metadata": {},
   "source": [
    "###  5. We use \"map\" to apply the sum list function to each sublist in tuple2"
   ]
  },
  {
   "cell_type": "code",
   "execution_count": null,
   "id": "339068ba",
   "metadata": {
    "vscode": {
     "languageId": "plaintext"
    }
   },
   "outputs": [],
   "source": [
    "tuple2 = ([7, 8], [9, 1], [10, 7])\n",
    "X = sum(map(sum, tuple2))\n",
    "print(X)"
   ]
  },
  {
   "cell_type": "markdown",
   "id": "7cc1cb40",
   "metadata": {},
   "source": [
    "### 6. We use \"map\" to apply the sum list function to each sublist in tuple3 but first, we need to find the half values of tuple2"
   ]
  },
  {
   "cell_type": "code",
   "execution_count": null,
   "id": "49b29a30",
   "metadata": {
    "vscode": {
     "languageId": "plaintext"
    }
   },
   "outputs": [],
   "source": [
    "tuple3 = ([3.5, 4], [4.5, 0.5], [5, 3.5])\n",
    "y= sum(map(sum , tuple3))\n",
    "print(y)"
   ]
  },
  {
   "cell_type": "markdown",
   "id": "46c07039",
   "metadata": {},
   "source": [
    "## 1.2 List"
   ]
  },
  {
   "cell_type": "markdown",
   "id": "7228cf79",
   "metadata": {},
   "source": [
    "1.\n"
   ]
  }
 ],
 "metadata": {
  "kernelspec": {
   "display_name": "Python 3 (ipykernel)",
   "language": "python",
   "name": "python3"
  },
  "language_info": {
   "codemirror_mode": {
    "name": "ipython",
    "version": 3
   },
   "file_extension": ".py",
   "mimetype": "text/x-python",
   "name": "python",
   "nbconvert_exporter": "python",
   "pygments_lexer": "ipython3",
   "version": "3.11.5"
  }
 },
 "nbformat": 4,
 "nbformat_minor": 5
}
