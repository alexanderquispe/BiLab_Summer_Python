{
 "cells": [
  {
   "cell_type": "markdown",
   "metadata": {},
   "source": [
    "# 1 Assignment 3"
   ]
  },
  {
   "cell_type": "code",
   "execution_count": 4,
   "metadata": {},
   "outputs": [],
   "source": [
    "import os\n",
    "import os\n",
    "import pickle\n",
    "import pandas as pd\n",
    "import numpy as np\n",
    "import urllib.request"
   ]
  },
  {
   "cell_type": "markdown",
   "metadata": {},
   "source": [
    "1. Import the `REC0111.sav`, `RE223132.sav` and `RE516171.sav` files and their variables and values labels from this path `\"../../_data/endes/2019\"`. The name of imported files should be named as `rec_1`, `rec_2` and `rec_3` for files `REC0111.sav`, `RE223132.sav` and `RE516171.sav` respectively. The name of the variable and value labels should be `var_labels1` and `value_labels1` for `rec1`, `var_labels2` and `value_labels2` for `rec2`, and `var_labels3` and `value_labels3` for `rec3`. **Hint: See the section 3.3.4 of [the lecture 3](https://github.com/alexanderquispe/Diplomado_PUCP/blob/main/Lecture_3/Lecture_3.ipynb)**"
   ]
  },
  {
   "cell_type": "markdown",
   "metadata": {},
   "source": [
    "2. Select the following columns for each data set:\n",
    "|Data|Columns|\n",
    "|---|---|\n",
    "|rec1| CASEID, V000, V001, V002, V003, V004, V007, V008, V009, V010, V011, V012, V024, V102, V120, V121, V122, V123, V124, V125, V127, V133 |\n",
    "|rec2| CASEID, V201, V218, V301, V302, V323, V323A, V325A, V326, V327, V337, V359, V360, V361, V362, V363, V364, V367, V372, V372A, V375A, V376, V376A, V379, V380 |\n",
    "|rec3| CASEID, V501, V502, V503, V504, V505, V506, V507, V508, V509, V510, V511, V512, V513, V525, V613, V714, V715 |\n",
    "\n",
    "\n",
    "Additioanlly, you should update the variables and value labels objects. They must have information only for the selected columns. The new dataframes should be name as `rec1_1`, `rec2_1`, and `rec3_1`. The new varible labels objects should be named as `new_var_labels1`, `new_var_labels2`, and `new_var_labels3`. The new value labels objects should be named as `new_value_labels1`, `new_value_labels2`, and `new_value_labels3` **Hint: Use the `loc` and column names to filter. Update the dictionary.**"
   ]
  },
  {
   "cell_type": "markdown",
   "metadata": {},
   "source": [
    "3. Generate a new column for `rec1_1` named as `year`. It should be equal to `2019`. Also, you must update this new variable for the `var_labels` dictionary. Generate a new key for `new_var_labels1` and the value for this key should be **\"Year of the survey\"** **Hint: Use `loc` and `update` method.**"
   ]
  },
  {
   "cell_type": "markdown",
   "metadata": {},
   "source": [
    "4. Merge `rec1_1`, `rec2_1`, and `rec3_1` using **CASEID**. Name this new object as `endes_2019`. **Hint: Use [this link](https://stackoverflow.com/questions/53645882/pandas-merging-101)**"
   ]
  },
  {
   "cell_type": "markdown",
   "metadata": {},
   "source": [
    "5. Unify all the `new_var_labels` in one object and `new_value_labels` in another one object. Name these two objects as `var_labels` and `value_labels`. Use them to generate new attributes for `endes_2019`. These attributes should be named as `var_labels` and `value_labels`. **Hint: Use `update` method.**"
   ]
  },
  {
   "cell_type": "markdown",
   "metadata": {},
   "source": [
    "6. Get the min, max, sd, n_obs, n_missing for the following columns **total children ever born (V201)**, **Ideal number of children (V613)**, **Husbands education-single yrs (V715)**, and **Age at first marriage (V511)**. We want a dataframe with the following columns **Variables, Min, Max, Mean, N_obs, N_missing** and sort by the number of missing rows. **Hint: Use `describe` and `pivot` methods**"
   ]
  },
  {
   "cell_type": "markdown",
   "metadata": {},
   "source": [
    "7. Use `endes_2019` data to generate a new object named `mean_key_vars` to find the mean of **total children ever born (V201)**, **Ideal number of children (V613)**, **Husbands education-single yrs (V715)**, and **Age at first marriage (V511)** by year and department **(V024)**. Name these columns as **mean_total_children, mean_ideal_children, mean_hb_yr_educ and mean_first_marriage**, respectively. **Hint: Use groupby and [this link](https://stackoverflow.com/questions/40901770/is-there-a-simple-way-to-change-a-column-of-yes-no-to-1-0-in-a-pandas-dataframe).**"
   ]
  },
  {
   "cell_type": "markdown",
   "metadata": {},
   "source": [
    "8. Reshape `mean_key_vars` from wide to long. We want a dataframe with three columns **dpto, variables, values**. Name this object as `reshape_mean_key_vars`. **Hint: Use melt method**."
   ]
  },
  {
   "cell_type": "markdown",
   "metadata": {},
   "source": [
    "9. Replicate your answers for questions 7 and 8, but in one line of code. Make it the most simple as possible. **NO HINT**"
   ]
  },
  {
   "cell_type": "markdown",
   "metadata": {},
   "source": [
    "10. Merge `reshape_mean_key_vars` with `endes_2019`. Name this object `final_result`. **Hint: Use merge.**"
   ]
  },
  {
   "cell_type": "code",
   "execution_count": 48,
   "metadata": {},
   "outputs": [],
   "source": [
    "import pandas as pd\n",
    "import pyreadstat\n",
    "import os"
   ]
  },
  {
   "cell_type": "code",
   "execution_count": null,
   "metadata": {},
   "outputs": [],
   "source": [
    "### 1"
   ]
  },
  {
   "cell_type": "code",
   "execution_count": 49,
   "metadata": {},
   "outputs": [],
   "source": [
    "# Original file paths"
   ]
  },
  {
   "cell_type": "code",
   "execution_count": 50,
   "metadata": {},
   "outputs": [],
   "source": [
    "file_paths = [\n",
    "    \"../../_data/endes/2019/REC0111.sav\",\n",
    "    \"../../_data/endes/2019/RE223132.sav\",\n",
    "    \"../../_data/endes/2019/RE516171.sav\"\n",
    "]"
   ]
  },
  {
   "cell_type": "code",
   "execution_count": 51,
   "metadata": {},
   "outputs": [],
   "source": [
    "# Desired names for the DataFrames"
   ]
  },
  {
   "cell_type": "code",
   "execution_count": 52,
   "metadata": {},
   "outputs": [],
   "source": [
    "dataframe_names = [\"rec_1\", \"rec_2\", \"rec_3\"]"
   ]
  },
  {
   "cell_type": "code",
   "execution_count": 53,
   "metadata": {},
   "outputs": [],
   "source": [
    "# Desired names for variable and value labels"
   ]
  },
  {
   "cell_type": "code",
   "execution_count": 54,
   "metadata": {},
   "outputs": [],
   "source": [
    "var_labels_names = [\"var_labels1\", \"var_labels2\", \"var_labels3\"]\n",
    "value_labels_names = [\"value_labels1\", \"value_labels2\", \"value_labels3\"]"
   ]
  },
  {
   "cell_type": "code",
   "execution_count": 40,
   "metadata": {},
   "outputs": [],
   "source": [
    "# Dictionaries to store the DataFrames and labels"
   ]
  },
  {
   "cell_type": "code",
   "execution_count": 41,
   "metadata": {},
   "outputs": [],
   "source": [
    "dataframes = {}\n",
    "var_labels = {}\n",
    "value_labels = {}"
   ]
  },
  {
   "cell_type": "code",
   "execution_count": 42,
   "metadata": {},
   "outputs": [],
   "source": [
    "# Import and assign names\n",
    "    # Store DataFrames with desired names\n",
    "    # Assign new names to columns"
   ]
  },
  {
   "cell_type": "code",
   "execution_count": 57,
   "metadata": {},
   "outputs": [],
   "source": [
    "for file_path, df_name, var_name, value_name in zip(file_paths, dataframe_names, var_labels_names, value_labels_names):\n",
    "    df, meta = pyreadstat.read_sav(file_path, apply_value_formats=True)\n",
    "    \n",
    "    dataframes[df_name] = df\n",
    "    var_labels[var_name] = meta.column_names_to_labels\n",
    "    value_labels[value_name] = meta.variable_value_labels\n",
    "    \n",
    "    dataframes[df_name].columns = list(meta.column_names_to_labels.keys())"
   ]
  },
  {
   "cell_type": "code",
   "execution_count": 58,
   "metadata": {},
   "outputs": [],
   "source": [
    "# Access DataFrames and labels"
   ]
  },
  {
   "cell_type": "code",
   "execution_count": 59,
   "metadata": {},
   "outputs": [],
   "source": [
    "rec_1 = dataframes[\"rec_1\"]\n",
    "rec_2 = dataframes[\"rec_2\"]\n",
    "rec_3 = dataframes[\"rec_3\"]"
   ]
  },
  {
   "cell_type": "code",
   "execution_count": 60,
   "metadata": {},
   "outputs": [],
   "source": [
    "var_labels1 = var_labels[\"var_labels1\"]\n",
    "var_labels2 = var_labels[\"var_labels2\"]\n",
    "var_labels3 = var_labels[\"var_labels3\"]"
   ]
  },
  {
   "cell_type": "code",
   "execution_count": 61,
   "metadata": {},
   "outputs": [],
   "source": [
    "value_labels1 = value_labels[\"value_labels1\"]\n",
    "value_labels2 = value_labels[\"value_labels2\"]\n",
    "value_labels3 = value_labels[\"value_labels3\"]"
   ]
  },
  {
   "cell_type": "code",
   "execution_count": 62,
   "metadata": {},
   "outputs": [],
   "source": [
    "# Verify DataFrames and tags"
   ]
  },
  {
   "cell_type": "code",
   "execution_count": 63,
   "metadata": {},
   "outputs": [
    {
     "name": "stdout",
     "output_type": "stream",
     "text": [
      "      ID1             HHID              CASEID  V001  V002  V003  V004  \\\n",
      "0  2019.0        000100201        000100201  2   1.0   2.0   2.0   1.0   \n",
      "1  2019.0        000100201        000100201  3   1.0   2.0   3.0   1.0   \n",
      "2  2019.0        000102801        000102801  2   1.0  28.0   2.0   1.0   \n",
      "3  2019.0        000102801        000102801  6   1.0  28.0   6.0   1.0   \n",
      "4  2019.0        000104801        000104801  2   1.0  48.0   2.0   1.0   \n",
      "\n",
      "     V007    V008  V009  ...  QD333_4  QD333_5  QD333_6  UBIGEO V022  \\\n",
      "0  2019.0  1434.0   4.0  ...       No       No       No  010101  3.0   \n",
      "1  2019.0  1434.0   1.0  ...       No       No       No  010101  3.0   \n",
      "2  2019.0  1434.0   6.0  ...       No       No       No  010101  3.0   \n",
      "3  2019.0  1434.0   3.0  ...       No       No       No  010101  3.0   \n",
      "4  2019.0  1434.0   5.0  ...       No       No       No  010101  3.0   \n",
      "\n",
      "       V005    V190      V191                                   mujeres12a49  \\\n",
      "0  154803.0    Rico  1.234450                Mujeres de 15 a 49 años de edad   \n",
      "1  154803.0    Rico  1.234450  Mujeres de 12 a 14 de edad, nunca embarazadas   \n",
      "2  154803.0    Rico  1.295611                Mujeres de 15 a 49 años de edad   \n",
      "3  154803.0    Rico  1.295611                Mujeres de 15 a 49 años de edad   \n",
      "4  154803.0  Pobrer -0.256431                Mujeres de 15 a 49 años de edad   \n",
      "\n",
      "   NCONGLOME  \n",
      "0     7065.0  \n",
      "1     7065.0  \n",
      "2     7065.0  \n",
      "3     7065.0  \n",
      "4     7065.0  \n",
      "\n",
      "[5 rows x 105 columns]\n",
      "{'ID1': 'Año', 'HHID': 'Identificación Cuestionario del Hogar', 'CASEID': 'Identificación Cuestionario Individual', 'V001': 'Conglomerado', 'V002': 'Número de vivienda', 'V003': 'Número de línea de entrevistada', 'V004': 'Unidad de área final', 'V007': 'Año de la entrevista', 'V008': 'Fecha de la entrevista, Codificación centenaria de meses (CMC)', 'V009': 'Mes de nacimiento de la entrevistada', 'V010': 'Año de nacimiento de la entrevistada', 'V011': 'Fecha de nacimiento, Codificación centenaria de meses (CMC)', 'V012': 'Edad actual - entrevistada', 'V013': 'Edad actual por grupos de 5 años', 'V014': 'Integridad de la información para la fecha de nacimiento', 'V015': 'Resultado entrevista individual', 'V017': 'Inicio del calendario, Codificación centenaria de mesesl CMC', 'V018': 'Columna del mes de la entrevista', 'V019': 'Duración del calendario', 'V019A': 'Número de columnas de calendario', 'V020': 'Muestra alguna vez casada', 'V021': 'Unidad de muestreo primario - conglomerado', 'V023': 'Dominio de ejemplo - Departamento', 'V024': 'Región', 'V025': 'Tipo de lugar de residencia', 'V026': 'El lugar de residencia en el que se entrevistó - De Facto', 'V027': 'Número de visitas', 'V028': 'Identificación del entrevistador', 'V029': 'Identificador del digitador', 'V030': 'Supervisor de campo', 'V031': 'Editor de campo', 'V032': 'Editor de la oficina', 'V033': 'Selección final del área de probabilidad', 'V034': 'Número de orden del esposo', 'V040': 'Altitud del conglomerado en metros', 'V042': 'Selección de hogar para hemoglobina', 'V043': 'Selección para módulo de estatus de mujeres', 'V044': 'Selección para módulo de violencia domestica', 'V000': 'Código y fase del país', 'Q105DD': 'Dia de nacimeinto de la entrevistada', 'V101': 'Región', 'V102': 'Tipo de lugar de residencia', 'V103': 'Lugar de residencia de la infancia', 'V104': 'Cuanto tiempo tiene viviendo continuamente en el lugar de residencia actual', 'V105': 'Tipo de lugar de residencia anteriormente', 'V106': 'Nivel educativo más alto', 'V107': 'Año/grado de educación más alto aprobado', 'V113': 'Fuente principal de abasteciemiento de agua potable que utilizan en su hogar para tomar o beber', 'V115': 'Tiempo para llegar a la fuente de agua', 'V116': 'Tipo de instalación sanitaria', 'V119': 'En su hogar tiene: electricidad', 'V120': 'En su hogar tiene: radio', 'V121': 'En su hogar tiene: televisión', 'V122': 'En su hogar tiene: refrigerador', 'V123': 'En su hogar tiene: bicicleta', 'V124': 'En su hogar tiene: motocicleta/motocar', 'V125': 'En su hogar tiene: coche/camión', 'V127': 'Material predominante del piso de la vivienda', 'V128': 'Material predominante de las paredes exteriores de la vivienda', 'V129': 'Material predominante del techo de la vivienda', 'V130': 'Religión', 'V131': 'Etnicidad', 'V133': 'Educación en años simples', 'V134': 'El lugar en el que se realizó la entrevista  De-facto', 'V135': 'Residente habitual o visitante', 'V136': 'Número de miembros del hogar', 'V137': 'Número de niños de 6 años de edad', 'V138': 'Número de mujeres de 15 a 49 años de edad elegibles en el hogar', 'V139': 'Región, residencia habitual De-jure', 'V140': 'Tipo de área de residencia De-jure', 'V141': 'Lugar de residencia De-jure', 'V149': 'Logro educativo', 'V150': 'Relación con el jefe del hogar', 'V151': 'Sexo del Jefe del Hogar', 'V152': 'Edad del jefe del hogar', 'V153': 'En su hogar tiene: teléfono', 'AWFACTT': 'Factor todas las mujeres - total', 'AWFACTU': 'Factor todas las mujeres - urbano/rural', 'AWFACTR': 'Factor todas las mujeres - regional', 'AWFACTE': 'Factor todas las mujeres - educación', 'AWFACTW': 'Factor todas las mujeres - índice de riqueza', 'V155': 'Alfabetización', 'V156': 'Alguna vez participó en un programa de alfabetización (no incluyendo la escuela primaria)', 'V157': 'Frecuencia de lectura de un periódico o revista', 'V158': 'Frecuencia de escuchar radio', 'V159': 'Frecuencia de ver televisión', 'V160': 'Baño compartido con otros hogares', 'V161': 'Tipo de combustible para cocinar', 'V166': 'Resultados de la prueba del yodo en la sal', 'V167': 'Número de viajes en los últimos 12 meses', 'V168': 'Afuera más de un mes en los últimos 12 meses', 'ML101': 'Tipo de mosquitero que utilizo para dormir última noche', 'QD333_1': 'Alguna dificultad o limitación permanente para ver, aún usando anteojos', 'QD333_2': 'Alguna dificultad o limitación permanente para oir, aún usando audífonos', 'QD333_3': 'Alguna dificultad o limitación permanente para hablar o comunicarse, aún usando la lengua de señas u otro', 'QD333_4': 'Alguna dificultad o limitación permanente para moverse o caminar para usar brazos y/o piernas', 'QD333_5': 'Alguna dificultad o limitación permanente para entender o aprender (concentrarse y recordarse)', 'QD333_6': 'Alguna dificultad o limitación permanente para relacionarse con los demás, por sus pensamientos, sentimientos, emociones o conductas', 'UBIGEO': 'Código de Ubicación Gegráfica', 'V022': 'Estratos', 'V005': 'Factor de ponderacion', 'V190': 'Índice de riqueza', 'V191': 'Factor de puntuación del índice de riqueza (5 decimales)', 'mujeres12a49': 'Mujeres de 12 a 49 años de edad', 'NCONGLOME': 'Número de Conglomerado (proveniente del marco)'}\n",
      "{'V013': {0.0: 'De 12 a 14 años de edad', 1.0: 'De 15 a 19 años de edad', 2.0: 'De 20 a 24 años de edad', 3.0: 'De 25 a 29 años de edad', 4.0: 'De 30 a 34 años de edad', 5.0: 'De 35 a 39 años de edad', 6.0: 'De 40 a 44 años de edad', 7.0: 'De 45 a 49 años de edad'}, 'V014': {1.0: 'Mes y año', 2.0: 'Mes y edad - año imputado', 3.0: 'Año y edad - mes imputado', 4.0: 'Año y edad - año ignorado supera el año de entrevista', 5.0: 'Año - edad y mes imputados', 6.0: 'Edad - año y mes imputados', 7.0: 'Mes - edad y año imputados', 8.0: 'Ninguno - edad, mes y año imputados'}, 'V015': {1.0: 'Completa', 2.0: 'Ausente', 3.0: 'Aplazada', 4.0: 'Rechazada', 5.0: 'Incoompleta', 6.0: 'Discapacitada', 7.0: 'Otra'}, 'V018': {0.0: 'Sin calendario'}, 'V019': {0.0: 'Sin calendario'}, 'V020': {0.0: 'Toda la mujer muestra', 1.0: 'Alguna muestra casada'}, 'V023': {1.0: 'Amazonas', 2.0: 'Ancash', 3.0: 'Apurimac', 4.0: 'Arequipa', 5.0: 'Ayacucho', 6.0: 'Cajamarca', 7.0: 'Callao', 8.0: 'Cusco', 9.0: 'Huancavelica', 10.0: ' Huanuco', 11.0: ' Ica', 12.0: ' Junin', 13.0: ' La Libertad', 14.0: ' Lambayeque', 15.0: ' Lima', 16.0: ' Loreto', 17.0: ' Madre de Dios', 18.0: ' Moquegua', 19.0: ' Pasco', 20.0: ' Piura', 21.0: ' Puno', 22.0: ' San Martin', 23.0: ' Tacna', 24.0: ' Tumbes', 25.0: ' Ucayali'}, 'V024': {1.0: 'Amazonas', 2.0: 'Ancash', 3.0: 'Apurimac', 4.0: 'Arequipa', 5.0: 'Ayacucho', 6.0: 'Cajamarca', 7.0: 'Callao', 8.0: 'Cusco', 9.0: 'Huancavelica', 10.0: ' Huanuco', 11.0: ' Ica', 12.0: ' Junin', 13.0: ' La Libertad', 14.0: ' Lambayeque', 15.0: ' Lima', 16.0: ' Loreto', 17.0: ' Madre de Dios', 18.0: ' Moquegua', 19.0: ' Pasco', 20.0: ' Piura', 21.0: ' Puno', 22.0: ' San Martin', 23.0: ' Tacna', 24.0: ' Tumbes', 25.0: ' Ucayali'}, 'V025': {1.0: 'Urbano', 2.0: 'Rural'}, 'V026': {0.0: 'Capital, gran ciudad', 1.0: 'Pequeña ciudad', 2.0: 'Pueblo', 3.0: 'Campo'}, 'V034': {0.0: 'El esposo no está en el hogar'}, 'V042': {0.0: 'No sabeleccionado', 1.0: 'Seleccionado'}, 'V043': {0.0: 'Mujer No sabeleccionada', 1.0: 'Mujer seleccionada'}, 'V044': {0.0: 'Mujer No sabeleccionada', 1.0: 'Mujer seleccionada y entrevistada', 2.0: 'Mujer seleccionada, pero la privacidad no es posible', 3.0: 'Mujer seleccionada, pero no entrevistada'}, 'Q105DD': {31.0: '1', 98.0: 'No sabe el dia'}, 'V101': {1.0: 'Amazonas', 2.0: 'Ancash', 3.0: 'Apurimac', 4.0: 'Arequipa', 5.0: 'Ayacucho', 6.0: 'Cajamarca', 7.0: 'Callao', 8.0: 'Cusco', 9.0: 'Huancavelica', 10.0: 'Huanuco', 11.0: 'Ica', 12.0: 'Junin', 13.0: 'La Libertad', 14.0: 'Lambayeque', 15.0: 'Lima', 16.0: 'Loreto', 17.0: 'Madre de Dios', 18.0: 'Moquegua', 19.0: 'Pasco', 20.0: 'Piura', 21.0: 'Puno', 22.0: 'San Martin', 23.0: 'Tacna', 24.0: 'Tumbes', 25.0: 'Ucayali'}, 'V102': {1.0: 'Urbano', 2.0: 'Rural'}, 'V103': {0.0: 'Capital, gran ciudad', 1.0: 'Ciudad', 2.0: 'Pueblo', 3.0: 'Campo', 4.0: 'En el extranjero'}, 'V104': {95.0: 'Siempre', 96.0: 'Visitante', 97.0: 'Inconsistente', 98.0: 'No sabe'}, 'V105': {0.0: 'Capital, gran ciudad', 1.0: 'Ciudad', 2.0: 'Pueblo', 3.0: 'Campo', 4.0: 'En el extranjero'}, 'V106': {0.0: 'Sin educación', 1.0: 'Primario', 2.0: 'Secundario', 3.0: 'Mayor'}, 'V113': {11.0: 'Dentro de la vivienda', 12.0: 'Fuera de la vivienda, pero dentro del edificio', 13.0: 'Pilón/Grifo público', 21.0: 'Pozo en la casa/patio/lote', 22.0: 'Pozo Público', 41.0: 'Manantial (puquio)', 43.0: 'Río/Acequia/Laguna', 51.0: 'Agua de lluvia', 61.0: 'Camión tanque/Aguatero', 71.0: 'Agua embotellada', 96.0: 'Otro', 97.0: 'No es residente habitual'}, 'V115': {996.0: 'En los lugares', 997.0: 'No residente de jure'}, 'V116': {11.0: 'Vivienda interior', 12.0: 'Vivienda exterior', 21.0: 'Letrina ventilada', 22.0: 'Pozo séptico', 23.0: 'Latrina (ciego o negro)', 24.0: 'Latrina sobre el río/lago', 31.0: 'Río, canal', 32.0: 'Sin servicio', 96.0: 'Otro', 97.0: 'No es residente habitual'}, 'V119': {0.0: 'No', 1.0: 'Si', 7.0: 'No es residente habitual'}, 'V120': {0.0: 'No', 1.0: 'Si', 7.0: 'No es residente habitual'}, 'V121': {0.0: 'No', 1.0: 'Si', 7.0: 'No es residente habitual'}, 'V122': {0.0: 'No', 1.0: 'Si', 7.0: 'No es residente habitual'}, 'V123': {0.0: 'No', 1.0: 'Si', 7.0: 'No es residente habitual'}, 'V124': {0.0: 'No', 1.0: 'Si', 7.0: 'No es residente habitual'}, 'V125': {0.0: 'No', 1.0: 'Si', 7.0: 'No es residente habitual'}, 'V127': {11.0: 'Tierra/arena', 21.0: 'Madera (entablados)', 31.0: 'Parquet o madera pulida', 32.0: 'Làminas asfálticas, vinílicos o similares', 33.0: 'Losetas, terrazos o similares', 34.0: 'Cemento/ladrillo', 96.0: 'Pona', 97.0: 'Otro(pona)'}, 'V128': {11.0: 'Tablones/madera', 12.0: 'Estera', 13.0: 'Caña/bambu/pona/palma/troncos/tabique', 21.0: 'Adobe o tapia tarrajeados', 22.0: 'Quincha (caña con barro)', 23.0: 'Piedra con barro', 24.0: 'Cartón', 31.0: 'Ladrillo o /Bloques de cemento', 32.0: 'Piedra o sillar con cal o cemento', 33.0: 'Tripley', 41.0: 'Sin paredes', 96.0: 'Otro', 97.0: 'No es residente habitual'}, 'V129': {11.0: 'Paja, hojas de palmera etc.', 12.0: 'Estera', 21.0: 'Caña o estera con torta de barro', 22.0: 'Cartón', 31.0: 'Concreto armado', 32.0: 'Madera', 33.0: 'Tejas', 34.0: 'Plancha de calamina, fibra de cemento o similares', 41.0: 'Sin techo', 96.0: 'Otro', 97.0: 'No es residente habitual'}, 'V130': {96.0: 'Otra'}, 'V131': {1.0: 'Quechua', 2.0: 'Aimara', 3.0: 'Ashaninka', 4.0: 'Awajún/Aguaruna', 5.0: 'Shipibo/Konibo', 6.0: 'Shawi/Chayahuita', 7.0: 'Matsigenka/ Machiguenga', 8.0: 'Achuar', 9.0: 'Otra lengua nativa u originaria', 10.0: 'Castellano', 11.0: 'Portugués', 12.0: 'Otra lengua extranjera'}, 'V133': {97.0: 'Inconsistente'}, 'V134': {0.0: 'Capital, ciudad grande', 1.0: 'Ciudad pequeña', 2.0: 'Pueblo', 3.0: 'Campo'}, 'V135': {1.0: 'Residente habitual', 2.0: 'Visitante'}, 'V139': {0.0: 'En el extranjero', 1.0: 'Amazonas', 2.0: 'Ancash', 3.0: 'Apurimac', 4.0: 'Arequipa', 5.0: 'Ayacucho', 6.0: 'Cajamarca', 7.0: 'Callao', 8.0: 'Cusco', 9.0: 'Huancavelica', 10.0: 'Huanuco', 11.0: 'Ica', 12.0: 'Junin', 13.0: 'La Libertad', 14.0: 'Lambayeque', 15.0: 'Lima', 16.0: 'Loreto', 17.0: 'Madre de Dios', 18.0: 'Moquegua', 19.0: 'Pasco', 20.0: 'Piura', 21.0: 'Puno', 22.0: 'San Martin', 23.0: 'Tacna', 24.0: 'Tumbes', 25.0: 'Ucayali', 97.0: 'No es residente habitual'}, 'V140': {1.0: 'Área urbana', 2.0: 'Área rural', 7.0: 'No es residente habitual'}, 'V141': {0.0: 'Capital, ciudad grande', 1.0: 'Ciudad pequeña', 2.0: 'Pueblo', 3.0: 'Campo', 7.0: 'No es residente habitual'}, 'V149': {0.0: 'Sin educación', 1.0: 'Primaria incompleta', 2.0: 'Primaria completa', 3.0: 'Secundaria incompleta', 4.0: 'Secundaria completa', 5.0: 'Superior'}, 'V150': {1.0: 'Jefe del hogar', 2.0: 'Esposa/esposo', 3.0: 'Hijo/Hija', 4.0: 'Yerno/Nuera', 5.0: 'Nieto/Nieta', 6.0: 'Padre/Madre', 7.0: 'Suegro/Suegra', 8.0: 'Hermano/a', 9.0: 'Conviviente', 10.0: 'Otro pariente', 11.0: 'Hijo adoptado/hijo de crianza', 12.0: 'Sin parentesco', 15.0: 'Empleada domésdtica', 98.0: 'No sabe'}, 'V151': {1.0: 'Hombre', 2.0: 'Mujer'}, 'V152': {97.0: '97+', 98.0: 'NS'}, 'V153': {0.0: 'No', 1.0: 'Si', 7.0: 'No es residente habitual'}, 'V155': {0.0: 'No puede leer', 1.0: 'Puede leer sólo parte de la frase', 2.0: 'Puede leer la frase', 3.0: 'No hay tarjeta en el idioma requerido', 4.0: 'Ciega/problemas visuales'}, 'V156': {0.0: 'No', 1.0: 'Si'}, 'V157': {0.0: 'Nunca', 1.0: 'De vez en cuando', 2.0: 'Una vez por semana', 3.0: 'Casi todos los días'}, 'V158': {0.0: 'Nunca', 1.0: 'De vez en cuando', 2.0: 'Una vez por semana', 3.0: 'Casi todos los días'}, 'V159': {0.0: 'Nunca', 1.0: 'De vez en cuando', 2.0: 'Una vez por semana', 3.0: 'Casi todos los días'}, 'V160': {0.0: 'No', 1.0: 'Si', 7.0: 'No es residente habitual'}, 'V161': {1.0: 'Electricidad', 2.0: 'Gas Licuado (GLP)', 3.0: 'Gas natural(Tuberia)', 5.0: 'Kerosene', 6.0: 'Carbón mineral', 7.0: 'Carbon vegetal', 8.0: 'Leña', 9.0: 'Cañas/Arbustos (secos)', 10.0: 'Residuos agricolas', 11.0: 'Bosta', 95.0: 'No cocina', 96.0: 'Otro', 97.0: 'No es residente habitual'}, 'V166': {0.0: 'Sin coloración  - 0 ppm (sin yodo)', 7.0: 'Coloración tenue - 7 ppm', 15.0: 'Coloración azul o morado - 15 ppm', 30.0: 'Coloración morado oscuro - 30 ppm a más', 994.0: 'No se pudo realizar la prueba', 995.0: 'No hay sal en el hogar'}, 'V167': {0.0: 'Ninguno'}, 'V168': {0.0: 'No', 1.0: 'Si'}, 'ML101': {0.0: 'Sin mosquitero', 1.0: 'Solo mosquiteros tratados', 2.0: 'Ambos mosquiteros tratados y no tratados', 3.0: 'Solo mosquiteros no tratados'}, 'QD333_1': {1.0: 'Si', 2.0: 'No'}, 'QD333_2': {1.0: 'Si', 2.0: 'No'}, 'QD333_3': {1.0: 'Si', 2.0: 'No'}, 'QD333_4': {1.0: 'Si', 2.0: 'No'}, 'QD333_5': {1.0: 'Si', 2.0: 'No'}, 'QD333_6': {1.0: 'Si', 2.0: 'No'}, 'V190': {1.0: 'El más pobre', 2.0: 'Pobrer', 3.0: 'Medio', 4.0: 'Rico', 5.0: 'Más rico'}, 'mujeres12a49': {0.0: 'Mujeres de 12 a 14 de edad, nunca embarazadas', 1.0: 'Mujeres de 12 a 49 de edad, alguna vez emabrazadas', 2.0: 'Mujeres de 15 a 49 años de edad'}}\n"
     ]
    }
   ],
   "source": [
    "print(rec_1.head())\n",
    "print(var_labels1)\n",
    "print(value_labels1)"
   ]
  },
  {
   "cell_type": "code",
   "execution_count": 64,
   "metadata": {},
   "outputs": [],
   "source": [
    "### 2"
   ]
  },
  {
   "cell_type": "code",
   "execution_count": 65,
   "metadata": {},
   "outputs": [],
   "source": [
    "# Selecting columns for each data set"
   ]
  },
  {
   "cell_type": "code",
   "execution_count": 66,
   "metadata": {},
   "outputs": [],
   "source": [
    "selected_columns_rec1 = ['CASEID', 'V000', 'V001', 'V002', 'V003', 'V004', 'V007', 'V008', 'V009', 'V010', 'V011', 'V012', 'V024', 'V102', 'V120', 'V121', 'V122', 'V123', 'V124', 'V125', 'V127', 'V133']\n",
    "selected_columns_rec2 = ['CASEID', 'V201', 'V218', 'V301', 'V302', 'V323', 'V323A', 'V325A', 'V326', 'V327', 'V337', 'V359', 'V360', 'V361', 'V362', 'V363', 'V364', 'V367', 'V372', 'V372A', 'V375A', 'V376', 'V376A', 'V379', 'V380']\n",
    "selected_columns_rec3 = ['CASEID', 'V501', 'V502', 'V503', 'V504', 'V505', 'V506', 'V507', 'V508', 'V509', 'V510', 'V511', 'V512', 'V513', 'V525', 'V613', 'V714', 'V715']"
   ]
  },
  {
   "cell_type": "code",
   "execution_count": 67,
   "metadata": {},
   "outputs": [],
   "source": [
    "# Create new DataFrames with the selected columns"
   ]
  },
  {
   "cell_type": "code",
   "execution_count": 68,
   "metadata": {},
   "outputs": [],
   "source": [
    "rec1_1 = rec_1.loc[:, selected_columns_rec1]\n",
    "rec2_1 = rec_2.loc[:, selected_columns_rec2]\n",
    "rec3_1 = rec_3.loc[:, selected_columns_rec3]"
   ]
  },
  {
   "cell_type": "code",
   "execution_count": 69,
   "metadata": {},
   "outputs": [],
   "source": [
    "# Update variable labels and values for each data set"
   ]
  },
  {
   "cell_type": "code",
   "execution_count": 70,
   "metadata": {},
   "outputs": [],
   "source": [
    "new_var_labels1 = {col: var_labels1[col] for col in selected_columns_rec1}\n",
    "new_var_labels2 = {col: var_labels2[col] for col in selected_columns_rec2}\n",
    "new_var_labels3 = {col: var_labels3[col] for col in selected_columns_rec3}"
   ]
  },
  {
   "cell_type": "code",
   "execution_count": 71,
   "metadata": {},
   "outputs": [],
   "source": [
    "new_value_labels1 = {col: value_labels1[col] for col in selected_columns_rec1 if col in value_labels1}\n",
    "new_value_labels2 = {col: value_labels2[col] for col in selected_columns_rec2 if col in value_labels2}\n",
    "new_value_labels3 = {col: value_labels3[col] for col in selected_columns_rec3 if col in value_labels3}"
   ]
  },
  {
   "cell_type": "code",
   "execution_count": null,
   "metadata": {},
   "outputs": [],
   "source": [
    "### 3"
   ]
  },
  {
   "cell_type": "code",
   "execution_count": 72,
   "metadata": {},
   "outputs": [],
   "source": [
    "# Generate new column 'year' with constant value 2019"
   ]
  },
  {
   "cell_type": "code",
   "execution_count": 73,
   "metadata": {},
   "outputs": [],
   "source": [
    "rec1_1['year'] = 2019"
   ]
  },
  {
   "cell_type": "code",
   "execution_count": 74,
   "metadata": {},
   "outputs": [],
   "source": [
    "# Update variable labels to reflect the new column"
   ]
  },
  {
   "cell_type": "code",
   "execution_count": 75,
   "metadata": {},
   "outputs": [],
   "source": [
    "new_var_labels1.update({'year': 'Year of the survey'})"
   ]
  },
  {
   "cell_type": "code",
   "execution_count": 76,
   "metadata": {},
   "outputs": [
    {
     "name": "stdout",
     "output_type": "stream",
     "text": [
      "rec1_1 con nueva columna 'year':\n",
      "               CASEID V000  V001  V002  V003  V004    V007    V008  V009  \\\n",
      "0        000100201  2  PE6   1.0   2.0   2.0   1.0  2019.0  1434.0   4.0   \n",
      "1        000100201  3  PE6   1.0   2.0   3.0   1.0  2019.0  1434.0   1.0   \n",
      "2        000102801  2  PE6   1.0  28.0   2.0   1.0  2019.0  1434.0   6.0   \n",
      "3        000102801  6  PE6   1.0  28.0   6.0   1.0  2019.0  1434.0   3.0   \n",
      "4        000104801  2  PE6   1.0  48.0   2.0   1.0  2019.0  1434.0   5.0   \n",
      "\n",
      "     V010  ...    V102  V120 V121 V122 V123 V124 V125  \\\n",
      "0  1986.0  ...  Urbano    Si   Si   Si   No   No   No   \n",
      "1  2007.0  ...  Urbano    Si   Si   Si   No   No   No   \n",
      "2  1983.0  ...  Urbano    Si   Si   Si   Si   Si   Si   \n",
      "3  1970.0  ...  Urbano    Si   Si   Si   Si   Si   Si   \n",
      "4  1991.0  ...  Urbano    No   No   No   No   No   No   \n",
      "\n",
      "                            V127  V133  year  \n",
      "0  Losetas, terrazos o similares  16.0  2019  \n",
      "1  Losetas, terrazos o similares   6.0  2019  \n",
      "2  Losetas, terrazos o similares  16.0  2019  \n",
      "3  Losetas, terrazos o similares   4.0  2019  \n",
      "4               Cemento/ladrillo   1.0  2019  \n",
      "\n",
      "[5 rows x 23 columns]\n",
      "\n",
      "new_var_labels1 actualizadas:\n",
      "{'CASEID': 'Identificación Cuestionario Individual', 'V000': 'Código y fase del país', 'V001': 'Conglomerado', 'V002': 'Número de vivienda', 'V003': 'Número de línea de entrevistada', 'V004': 'Unidad de área final', 'V007': 'Año de la entrevista', 'V008': 'Fecha de la entrevista, Codificación centenaria de meses (CMC)', 'V009': 'Mes de nacimiento de la entrevistada', 'V010': 'Año de nacimiento de la entrevistada', 'V011': 'Fecha de nacimiento, Codificación centenaria de meses (CMC)', 'V012': 'Edad actual - entrevistada', 'V024': 'Región', 'V102': 'Tipo de lugar de residencia', 'V120': 'En su hogar tiene: radio', 'V121': 'En su hogar tiene: televisión', 'V122': 'En su hogar tiene: refrigerador', 'V123': 'En su hogar tiene: bicicleta', 'V124': 'En su hogar tiene: motocicleta/motocar', 'V125': 'En su hogar tiene: coche/camión', 'V127': 'Material predominante del piso de la vivienda', 'V133': 'Educación en años simples', 'year': 'Year of the survey'}\n"
     ]
    }
   ],
   "source": [
    "print(\"rec1_1 con nueva columna 'year':\")\n",
    "print(rec1_1.head())\n",
    "\n",
    "print(\"\\nnew_var_labels1 actualizadas:\")\n",
    "print(new_var_labels1)"
   ]
  },
  {
   "cell_type": "code",
   "execution_count": 77,
   "metadata": {},
   "outputs": [],
   "source": [
    "### 4"
   ]
  },
  {
   "cell_type": "code",
   "execution_count": 78,
   "metadata": {},
   "outputs": [],
   "source": [
    "# Merge the DataFrames using CASEID"
   ]
  },
  {
   "cell_type": "code",
   "execution_count": 79,
   "metadata": {},
   "outputs": [],
   "source": [
    "endes_2019 = rec1_1.merge(rec2_1, on='CASEID').merge(rec3_1, on='CASEID')"
   ]
  },
  {
   "cell_type": "code",
   "execution_count": 80,
   "metadata": {},
   "outputs": [
    {
     "name": "stdout",
     "output_type": "stream",
     "text": [
      "endes_2019:\n",
      "               CASEID V000  V001   V002  V003  V004    V007    V008  V009  \\\n",
      "0        000100201  2  PE6   1.0    2.0   2.0   1.0  2019.0  1434.0   4.0   \n",
      "1        000102801  2  PE6   1.0   28.0   2.0   1.0  2019.0  1434.0   6.0   \n",
      "2        000102801  6  PE6   1.0   28.0   6.0   1.0  2019.0  1434.0   3.0   \n",
      "3        000104801  2  PE6   1.0   48.0   2.0   1.0  2019.0  1434.0   5.0   \n",
      "4        000113601  2  PE6   1.0  136.0   2.0   1.0  2019.0  1434.0  11.0   \n",
      "\n",
      "     V010  ...    V508    V509                    V510  V511  V512  \\\n",
      "0  1986.0  ...  2008.0  1297.0         Tiene mes y año  21.0  11.0   \n",
      "1  1983.0  ...  2011.0  1344.0         Tiene mes y año  28.0   7.0   \n",
      "2  1970.0  ...  1984.0  1016.0  Tiene año - imputa mes  14.0  34.0   \n",
      "3  1991.0  ...  2009.0  1320.0         Tiene mes y año  18.0   9.0   \n",
      "4  1988.0  ...  2005.0  1272.0         Tiene mes y año  17.0  13.0   \n",
      "\n",
      "               V513  V525 V613 V714  V715  \n",
      "0   De 10 a 14 años  17.0  2.0   Sí  11.0  \n",
      "1     De 5 a 9 años  18.0  3.0   Sí  14.0  \n",
      "2  De 30 a más años  14.0  0.0   No   6.0  \n",
      "3     De 5 a 9 años  15.0  2.0   No   6.0  \n",
      "4   De 10 a 14 años  15.0  2.0   Sí  16.0  \n",
      "\n",
      "[5 rows x 64 columns]\n"
     ]
    }
   ],
   "source": [
    "print(\"endes_2019:\")\n",
    "print(endes_2019.head())"
   ]
  },
  {
   "cell_type": "code",
   "execution_count": null,
   "metadata": {},
   "outputs": [],
   "source": []
  }
 ],
 "metadata": {
  "hide_input": false,
  "kernelspec": {
   "display_name": "Python 3 (ipykernel)",
   "language": "python",
   "name": "python3"
  },
  "language_info": {
   "codemirror_mode": {
    "name": "ipython",
    "version": 3
   },
   "file_extension": ".py",
   "mimetype": "text/x-python",
   "name": "python",
   "nbconvert_exporter": "python",
   "pygments_lexer": "ipython3",
   "version": "3.11.5"
  },
  "toc": {
   "base_numbering": 1,
   "nav_menu": {},
   "number_sections": true,
   "sideBar": true,
   "skip_h1_title": false,
   "title_cell": "Table of Contents",
   "title_sidebar": "Contents",
   "toc_cell": false,
   "toc_position": {},
   "toc_section_display": true,
   "toc_window_display": false
  }
 },
 "nbformat": 4,
 "nbformat_minor": 4
}
