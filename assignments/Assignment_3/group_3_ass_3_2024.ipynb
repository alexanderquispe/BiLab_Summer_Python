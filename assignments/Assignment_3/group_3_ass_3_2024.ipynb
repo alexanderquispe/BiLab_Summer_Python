In this document the development of the activity for each member will be placed.
Objetive: Complete the Assesment 3
Dead Line: 01/12/2024

Sumary of activities:
1. Igor: 
2. Katy:
3. Zuleika: 
