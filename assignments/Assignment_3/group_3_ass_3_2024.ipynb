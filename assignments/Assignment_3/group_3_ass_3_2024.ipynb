{
   "cell_type": "markdown",
   "metadata": {},
   "source": [
    "1. In this document the development of the activity for each member will be placed. Objetive: Complete the Assesment 3 . Dead Line: 01/12/2024. Sumary of activities:
 ]
  }

