{
 "cells": [
  {
   "cell_type": "markdown",
   "metadata": {},
   "source": [
    "# 1 Assignment 3"
   ]
  },
  {
   "cell_type": "code",
   "execution_count": 1,
   "metadata": {},
   "outputs": [],
   "source": [
    "import os\n",
    "import os\n",
    "import pickle\n",
    "import pandas as pd\n",
    "import numpy as np\n",
    "import urllib.request\n"
   ]
  },
  {
   "cell_type": "markdown",
   "metadata": {},
   "source": [
    "1. Import the `REC0111.sav`, `RE223132.sav` and `RE516171.sav` files and their variables and values labels from this path `\"../../_data/endes/2019\"`. The name of imported files should be named as `rec_1`, `rec_2` and `rec_3` for files `REC0111.sav`, `RE223132.sav` and `RE516171.sav` respectively. The name of the variable and value labels should be `var_labels1` and `value_labels1` for `rec1`, `var_labels2` and `value_labels2` for `rec2`, and `var_labels3` and `value_labels3` for `rec3`. **Hint: See the section 3.3.4 of [the lecture 3](https://github.com/alexanderquispe/Diplomado_PUCP/blob/main/Lecture_3/Lecture_3.ipynb)**"
   ]
  },
  {
   "cell_type": "markdown",
   "metadata": {},
   "source": [
    "2. Select the following columns for each data set:\n",
    "|Data|Columns|\n",
    "|---|---|\n",
    "|rec1| CASEID, V000, V001, V002, V003, V004, V007, V008, V009, V010, V011, V012, V024, V102, V120, V121, V122, V123, V124, V125, V127, V133 |\n",
    "|rec2| CASEID, V201, V218, V301, V302, V323, V323A, V325A, V326, V327, V337, V359, V360, V361, V362, V363, V364, V367, V372, V372A, V375A, V376, V376A, V379, V380 |\n",
    "|rec3| CASEID, V501, V502, V503, V504, V505, V506, V507, V508, V509, V510, V511, V512, V513, V525, V613, V714, V715 |\n",
    "\n",
    "\n",
    "Additioanlly, you should update the variables and value labels objects. They must have information only for the selected columns. The new dataframes should be name as `rec1_1`, `rec2_1`, and `rec3_1`. The new varible labels objects should be named as `new_var_labels1`, `new_var_labels2`, and `new_var_labels3`. The new value labels objects should be named as `new_value_labels1`, `new_value_labels2`, and `new_value_labels3` **Hint: Use the `loc` and column names to filter. Update the dictionary.**"
   ]
  },
  {
   "cell_type": "markdown",
   "metadata": {},
   "source": [
    "3. Generate a new column for `rec1_1` named as `year`. It should be equal to `2019`. Also, you must update this new variable for the `var_labels` dictionary. Generate a new key for `new_var_labels1` and the value for this key should be **\"Year of the survey\"** **Hint: Use `loc` and `update` method.**"
   ]
  },
  {
   "cell_type": "markdown",
   "metadata": {},
   "source": [
    "4. Merge `rec1_1`, `rec2_1`, and `rec3_1` using **CASEID**. Name this new object as `endes_2019`. **Hint: Use [this link](https://stackoverflow.com/questions/53645882/pandas-merging-101)**"
   ]
  },
  {
   "cell_type": "markdown",
   "metadata": {},
   "source": [
    "5. Unify all the `new_var_labels` in one object and `new_value_labels` in another one object. Name these two objects as `var_labels` and `value_labels`. Use them to generate new attributes for `endes_2019`. These attributes should be named as `var_labels` and `value_labels`. **Hint: Use `update` method.**"
   ]
  },
  {
   "cell_type": "markdown",
   "metadata": {},
   "source": [
    "6. Get the min, max, sd, n_obs, n_missing for the following columns **total children ever born (V201)**, **Ideal number of children (V613)**, **Husbands education-single yrs (V715)**, and **Age at first marriage (V511)**. We want a dataframe with the following columns **Variables, Min, Max, Mean, N_obs, N_missing** and sort by the number of missing rows. **Hint: Use `describe` and `pivot` methods**"
   ]
  },
  {
   "cell_type": "markdown",
   "metadata": {},
   "source": [
    "7. Use `endes_2019` data to generate a new object named `mean_key_vars` to find the mean of **total children ever born (V201)**, **Ideal number of children (V613)**, **Husbands education-single yrs (V715)**, and **Age at first marriage (V511)** by year and department **(V024)**. Name these columns as **mean_total_children, mean_ideal_children, mean_hb_yr_educ and mean_first_marriage**, respectively. **Hint: Use groupby and [this link](https://stackoverflow.com/questions/40901770/is-there-a-simple-way-to-change-a-column-of-yes-no-to-1-0-in-a-pandas-dataframe).**"
   ]
  },
  {
   "cell_type": "markdown",
   "metadata": {},
   "source": [
    "8. Reshape `mean_key_vars` from wide to long. We want a dataframe with three columns **dpto, variables, values**. Name this object as `reshape_mean_key_vars`. **Hint: Use melt method**."
   ]
  },
  {
   "cell_type": "markdown",
   "metadata": {},
   "source": [
    "9. Replicate your answers for questions 7 and 8, but in one line of code. Make it the most simple as possible. **NO HINT**"
   ]
  },
  {
   "cell_type": "markdown",
   "metadata": {},
   "source": [
    "10. Merge `reshape_mean_key_vars` with `endes_2019`. Name this object `final_result`. **Hint: Use merge.**"
   ]
  },
  {
   "cell_type": "code",
   "execution_count": 14,
   "metadata": {},
   "outputs": [],
   "source": [
    "# Paso 1:\n",
    "\n",
    "import pyreadstat\n",
    "\n",
    "# File paths\n",
    "rec_1_path = \"../../_data/endes/2019/REC0111.sav\"\n",
    "rec_2_path = \"../../_data/endes/2019/RE223132.sav\"\n",
    "rec_3_path = \"../../_data/endes/2019/RE516171.sav\"\n",
    "\n",
    "# Import data and metadata\n",
    "rec_1, meta_1 = pyreadstat.read_sav(rec_1_path)\n",
    "rec_2, meta_2 = pyreadstat.read_sav(rec_2_path)\n",
    "rec_3, meta_3 = pyreadstat.read_sav(rec_3_path)\n",
    "\n",
    "# Naming variables and values labels\n",
    "var_labels1 = meta_1.column_labels\n",
    "value_labels1 = meta_1.variable_value_labels\n",
    "\n",
    "var_labels2 = meta_2.column_labels\n",
    "value_labels2 = meta_2.variable_value_labels\n",
    "\n",
    "var_labels3 = meta_3.column_labels\n",
    "value_labels3 = meta_3.variable_value_labels\n"
   ]
  },
  {
   "cell_type": "code",
   "execution_count": 25,
   "metadata": {},
   "outputs": [],
   "source": [
    "# paso 2\n",
    "# Select columns for each dataset\n",
    "columns_rec1 = ['CASEID', 'V000', 'V001', 'V002', 'V003', 'V004', 'V007', 'V008', 'V009', 'V010', 'V011', 'V012', 'V024', 'V102', 'V120', 'V121', 'V122', 'V123', 'V124', 'V125', 'V127', 'V133']\n",
    "columns_rec2 = ['CASEID', 'V201', 'V218', 'V301', 'V302', 'V323', 'V323A', 'V325A', 'V326', 'V327', 'V337', 'V359', 'V360', 'V361', 'V362', 'V363', 'V364', 'V367', 'V372', 'V372A', 'V375A', 'V376', 'V376A', 'V379', 'V380']\n",
    "columns_rec3 = ['CASEID', 'V501', 'V502', 'V503', 'V504', 'V505', 'V506', 'V507', 'V508', 'V509', 'V510', 'V511', 'V512', 'V513', 'V525', 'V613', 'V714', 'V715']\n",
    "\n",
    "# Create new DataFrames with selected columns\n",
    "rec1_1 = rec_1[columns_rec1].copy()\n",
    "rec2_1 = rec_2[columns_rec2].copy()\n",
    "rec3_1 = rec_3[columns_rec3].copy()\n",
    "\n",
    "# Update variable and value labels objects\n",
    "new_var_labels1 = {col: label for col, label in zip(columns_rec1, meta_1.column_labels)}\n",
    "new_var_labels2 = {col: label for col, label in zip(columns_rec2, meta_2.column_labels)}\n",
    "new_var_labels3 = {col: label for col, label in zip(columns_rec3, meta_3.column_labels)}\n",
    "\n",
    "new_value_labels1 = {col: labels for col, labels in zip(columns_rec1, meta_1.variable_value_labels.values())}\n",
    "new_value_labels2 = {col: labels for col, labels in zip(columns_rec2, meta_2.variable_value_labels.values())}\n",
    "new_value_labels3 = {col: labels for col, labels in zip(columns_rec3, meta_3.variable_value_labels.values())}"
   ]
  },
  {
   "cell_type": "code",
   "execution_count": 20,
   "metadata": {},
   "outputs": [],
   "source": [
    "# paso 3\n",
    "# Import data and metadata\n",
    "rec_1, meta_1 = pyreadstat.read_sav(rec_1_path)\n",
    "# ... (otros conjuntos de datos)\n",
    "\n",
    "# Naming variables and values labels\n",
    "var_labels1 = meta_1.column_labels\n",
    "value_labels1 = meta_1.variable_value_labels\n"
   ]
  },
  {
   "cell_type": "code",
   "execution_count": 21,
   "metadata": {},
   "outputs": [],
   "source": [
    "# PASO 4: Merge rec1_1, rec2_1, and rec3_1 using CASEID. Name this new object as endes_2019.\n",
    "endes_2019 = pd.merge(rec1_1, rec2_1, on='CASEID')\n",
    "endes_2019 = pd.merge(endes_2019, rec3_1, on='CASEID')"
   ]
  },
  {
   "cell_type": "code",
   "execution_count": 26,
   "metadata": {},
   "outputs": [
    {
     "name": "stderr",
     "output_type": "stream",
     "text": [
      "C:\\Users\\deivi\\AppData\\Local\\Temp\\ipykernel_15596\\3993982802.py:9: UserWarning: Pandas doesn't allow columns to be created via a new attribute name - see https://pandas.pydata.org/pandas-docs/stable/indexing.html#attribute-access\n",
      "  endes_2019.var_labels = var_labels\n",
      "C:\\Users\\deivi\\AppData\\Local\\Temp\\ipykernel_15596\\3993982802.py:10: UserWarning: Pandas doesn't allow columns to be created via a new attribute name - see https://pandas.pydata.org/pandas-docs/stable/indexing.html#attribute-access\n",
      "  endes_2019.value_labels = value_labels\n"
     ]
    }
   ],
   "source": [
    "# Paso 5\n",
    "# Combine variable labels\n",
    "var_labels = {**new_var_labels1, **new_var_labels2, **new_var_labels3}\n",
    "\n",
    "# Combine value labels\n",
    "value_labels = {**new_value_labels1, **new_value_labels2, **new_value_labels3}\n",
    "\n",
    "# Set new attributes for endes_2019\n",
    "endes_2019.var_labels = var_labels\n",
    "endes_2019.value_labels = value_labels\n"
   ]
  },
  {
   "cell_type": "code",
   "execution_count": 27,
   "metadata": {},
   "outputs": [
    {
     "data": {
      "text/html": [
       "<div>\n",
       "<style scoped>\n",
       "    .dataframe tbody tr th:only-of-type {\n",
       "        vertical-align: middle;\n",
       "    }\n",
       "\n",
       "    .dataframe tbody tr th {\n",
       "        vertical-align: top;\n",
       "    }\n",
       "\n",
       "    .dataframe thead th {\n",
       "        text-align: right;\n",
       "    }\n",
       "</style>\n",
       "<table border=\"1\" class=\"dataframe\">\n",
       "  <thead>\n",
       "    <tr style=\"text-align: right;\">\n",
       "      <th></th>\n",
       "      <th>Variable</th>\n",
       "      <th>Min</th>\n",
       "      <th>Max</th>\n",
       "      <th>Mean</th>\n",
       "      <th>N_obs</th>\n",
       "      <th>N_missing</th>\n",
       "    </tr>\n",
       "  </thead>\n",
       "  <tbody>\n",
       "    <tr>\n",
       "      <th>2</th>\n",
       "      <td>V715</td>\n",
       "      <td>0.0</td>\n",
       "      <td>98.0</td>\n",
       "      <td>11.624474</td>\n",
       "      <td>25881</td>\n",
       "      <td>7430</td>\n",
       "    </tr>\n",
       "    <tr>\n",
       "      <th>3</th>\n",
       "      <td>V511</td>\n",
       "      <td>10.0</td>\n",
       "      <td>48.0</td>\n",
       "      <td>20.463738</td>\n",
       "      <td>25881</td>\n",
       "      <td>7430</td>\n",
       "    </tr>\n",
       "    <tr>\n",
       "      <th>0</th>\n",
       "      <td>V201</td>\n",
       "      <td>0.0</td>\n",
       "      <td>13.0</td>\n",
       "      <td>1.975113</td>\n",
       "      <td>33311</td>\n",
       "      <td>0</td>\n",
       "    </tr>\n",
       "    <tr>\n",
       "      <th>1</th>\n",
       "      <td>V613</td>\n",
       "      <td>0.0</td>\n",
       "      <td>96.0</td>\n",
       "      <td>2.455345</td>\n",
       "      <td>33311</td>\n",
       "      <td>0</td>\n",
       "    </tr>\n",
       "  </tbody>\n",
       "</table>\n",
       "</div>"
      ],
      "text/plain": [
       "  Variable   Min   Max       Mean  N_obs  N_missing\n",
       "2     V715   0.0  98.0  11.624474  25881       7430\n",
       "3     V511  10.0  48.0  20.463738  25881       7430\n",
       "0     V201   0.0  13.0   1.975113  33311          0\n",
       "1     V613   0.0  96.0   2.455345  33311          0"
      ]
     },
     "execution_count": 27,
     "metadata": {},
     "output_type": "execute_result"
    }
   ],
   "source": [
    "# PASO 6: Get the min, max, sd, n_obs, n_missing for the specified columns and create a dataframe.\n",
    "# We want a dataframe with the following columns: Variables, Min, Max, Mean, N_obs, N_missing\n",
    "# Sort the dataframe by the number of missing rows.\n",
    "\n",
    "columns_of_interest = ['V201', 'V613', 'V715', 'V511']\n",
    "\n",
    "# Initialize an empty list to store results\n",
    "summary_data = []\n",
    "\n",
    "for column in columns_of_interest:\n",
    "    min_val = endes_2019[column].min()\n",
    "    max_val = endes_2019[column].max()\n",
    "    mean_val = endes_2019[column].mean()\n",
    "    n_obs = endes_2019[column].count()\n",
    "    n_missing = endes_2019.shape[0] - n_obs\n",
    "\n",
    "    summary_data.append({\n",
    "        'Variable': column,\n",
    "        'Min': min_val,\n",
    "        'Max': max_val,\n",
    "        'Mean': mean_val,\n",
    "        'N_obs': n_obs,\n",
    "        'N_missing': n_missing\n",
    "    })\n",
    "\n",
    "# Create a DataFrame from the summary data\n",
    "summary_df = pd.DataFrame(summary_data)\n",
    "\n",
    "# Sort the DataFrame by the number of missing rows\n",
    "summary_df = summary_df.sort_values(by='N_missing', ascending=False)\n",
    "\n",
    "summary_df"
   ]
  },
  {
   "cell_type": "code",
   "execution_count": null,
   "metadata": {},
   "outputs": [],
   "source": []
  }
 ],
 "metadata": {
  "hide_input": false,
  "kernelspec": {
   "display_name": "Python 3 (ipykernel)",
   "language": "python",
   "name": "python3"
  },
  "language_info": {
   "codemirror_mode": {
    "name": "ipython",
    "version": 3
   },
   "file_extension": ".py",
   "mimetype": "text/x-python",
   "name": "python",
   "nbconvert_exporter": "python",
   "pygments_lexer": "ipython3",
   "version": "3.11.5"
  },
  "toc": {
   "base_numbering": 1,
   "nav_menu": {},
   "number_sections": true,
   "sideBar": true,
   "skip_h1_title": false,
   "title_cell": "Table of Contents",
   "title_sidebar": "Contents",
   "toc_cell": false,
   "toc_position": {},
   "toc_section_display": true,
   "toc_window_display": false
  }
 },
 "nbformat": 4,
 "nbformat_minor": 4
}
